{
 "cells": [
  {
   "cell_type": "markdown",
   "id": "ac55742f-a943-437a-8640-a98dd39f9af0",
   "metadata": {},
   "source": [
    "# Freeswitch Audio Recordings Traffic Analysis \n",
    "\n",
    "## Altanai Bisht \n",
    "( abisht@seattleu.import os \n",
    "os.environ['JAVA_HOME']=\"C:\\\\Users\\\\abisht\\\\.jdks\\\\corretto-11.0.15\"\n",
    "print(os.environ['JAVA_HOME'])m)\n",
    "\n",
    "License GPL 3"
   ]
  },
  {
   "cell_type": "code",
   "execution_count": 1,
   "id": "db27c63a-cf47-4853-8a93-d7e87d2f790b",
   "metadata": {},
   "outputs": [
    {
     "name": "stdout",
     "output_type": "stream",
     "text": [
      "C:\\Users\\abisht\\.jdks\\corretto-11.0.15\n"
     ]
    }
   ],
   "source": [
    "import os \n",
    "os.environ['JAVA_HOME']=\"C:\\\\Users\\\\abisht\\\\.jdks\\\\corretto-11.0.15\"\n",
    "print(os.environ['JAVA_HOME'])"
   ]
  },
  {
   "cell_type": "code",
   "execution_count": 2,
   "id": "ae329d59-c43d-4c1b-871c-60f9312ba51d",
   "metadata": {},
   "outputs": [
    {
     "data": {
      "text/plain": [
       "'C:\\\\Users\\\\abisht\\\\Downloads\\\\spark-3.2.1-bin-hadoop3.2\\\\spark-3.2.1-bin-hadoop3.2'"
      ]
     },
     "execution_count": 2,
     "metadata": {},
     "output_type": "execute_result"
    }
   ],
   "source": [
    "import findspark\n",
    "findspark.init()\n",
    "findspark.find()"
   ]
  },
  {
   "cell_type": "code",
   "execution_count": 3,
   "id": "875c3d3b-fd47-45fe-b37d-d0fdc6faa299",
   "metadata": {},
   "outputs": [],
   "source": [
    "import pandas as pd\n",
    "import numpy as np\n",
    "import matplotlib.pyplot as plt\n",
    "import seaborn as sns\n",
    "import numpy as np\n",
    "%matplotlib inline"
   ]
  },
  {
   "cell_type": "code",
   "execution_count": 4,
   "id": "27a3cd98-6e27-4791-8618-c5cd8194e99c",
   "metadata": {},
   "outputs": [],
   "source": [
    "import pyspark \n",
    "from pyspark.sql import SparkSession\n",
    "from pyspark.mllib.stat import Statistics \n",
    "spark = SparkSession.builder.getOrCreate()"
   ]
  },
  {
   "cell_type": "markdown",
   "id": "c86abf02-9a7b-4e71-b64f-cddafe2551d0",
   "metadata": {
    "tags": []
   },
   "source": [
    "# Call Recorded Audio File \n",
    "\n",
    "- wav"
   ]
  },
  {
   "cell_type": "code",
   "execution_count": 5,
   "id": "c2542251-7df6-4845-af15-b0f0227b83c3",
   "metadata": {},
   "outputs": [],
   "source": [
    "import scipy\n",
    "import os.path, time, datetime\n",
    "import platform"
   ]
  },
  {
   "cell_type": "code",
   "execution_count": 6,
   "id": "d3245dbd-2c7d-482f-be35-739d3077e0d9",
   "metadata": {},
   "outputs": [],
   "source": [
    "audiopath= 'C:\\\\Users\\\\abisht\\\\VoIPCallLogs_BigDataSet\\\\audiofiles'"
   ]
  },
  {
   "cell_type": "code",
   "execution_count": 8,
   "id": "b9799708-9349-42de-8d43-e612316d582a",
   "metadata": {},
   "outputs": [
    {
     "ename": "AttributeError",
     "evalue": "'list' object has no attribute 'take'",
     "output_type": "error",
     "traceback": [
      "\u001b[1;31m---------------------------------------------------------------------------\u001b[0m",
      "\u001b[1;31mAttributeError\u001b[0m                            Traceback (most recent call last)",
      "\u001b[1;32m~\\AppData\\Local\\Temp/ipykernel_17776/3420745109.py\u001b[0m in \u001b[0;36m<module>\u001b[1;34m\u001b[0m\n\u001b[0;32m      1\u001b[0m \u001b[0mrdd\u001b[0m \u001b[1;33m=\u001b[0m  \u001b[0mos\u001b[0m\u001b[1;33m.\u001b[0m\u001b[0mlistdir\u001b[0m\u001b[1;33m(\u001b[0m\u001b[0maudiopath\u001b[0m\u001b[1;33m)\u001b[0m\u001b[1;33m\u001b[0m\u001b[1;33m\u001b[0m\u001b[0m\n\u001b[1;32m----> 2\u001b[1;33m \u001b[0mrdd\u001b[0m\u001b[1;33m.\u001b[0m\u001b[0mtake\u001b[0m\u001b[1;33m(\u001b[0m\u001b[1;36m5\u001b[0m\u001b[1;33m)\u001b[0m\u001b[1;33m\u001b[0m\u001b[1;33m\u001b[0m\u001b[0m\n\u001b[0m",
      "\u001b[1;31mAttributeError\u001b[0m: 'list' object has no attribute 'take'"
     ]
    }
   ],
   "source": [
    "rdd =  os.listdir(audiopath)\n",
    "# rdd.take(5)"
   ]
  },
  {
   "cell_type": "code",
   "execution_count": 9,
   "id": "84c88101-5942-4277-925f-fa64f69b2b93",
   "metadata": {},
   "outputs": [
    {
     "data": {
      "text/plain": [
       "[datetime.datetime(2016, 2, 5, 6, 49, 25),\n",
       " datetime.datetime(2015, 6, 30, 22, 33, 58),\n",
       " datetime.datetime(2016, 2, 5, 6, 49, 25),\n",
       " datetime.datetime(2015, 6, 30, 22, 35, 58),\n",
       " datetime.datetime(2016, 2, 5, 6, 49, 25),\n",
       " datetime.datetime(2015, 6, 30, 22, 37, 50),\n",
       " datetime.datetime(2016, 2, 5, 6, 49, 25),\n",
       " datetime.datetime(2015, 6, 30, 22, 37, 23),\n",
       " datetime.datetime(2016, 2, 5, 6, 49, 25),\n",
       " datetime.datetime(2015, 6, 30, 22, 38, 8),\n",
       " datetime.datetime(2016, 2, 5, 6, 49, 25),\n",
       " datetime.datetime(2015, 6, 30, 22, 35, 40),\n",
       " datetime.datetime(2016, 2, 5, 6, 49, 25),\n",
       " datetime.datetime(2015, 6, 30, 22, 39, 29),\n",
       " datetime.datetime(2016, 2, 5, 6, 49, 26),\n",
       " datetime.datetime(2015, 6, 30, 22, 39, 51),\n",
       " datetime.datetime(2016, 2, 5, 6, 49, 26),\n",
       " datetime.datetime(2015, 6, 30, 22, 34, 7),\n",
       " datetime.datetime(2016, 2, 5, 6, 49, 26),\n",
       " datetime.datetime(2015, 6, 30, 22, 39, 25),\n",
       " datetime.datetime(2016, 2, 5, 6, 49, 26),\n",
       " datetime.datetime(2015, 6, 30, 22, 35, 44),\n",
       " datetime.datetime(2016, 2, 5, 6, 49, 26),\n",
       " datetime.datetime(2015, 6, 30, 22, 36, 27),\n",
       " datetime.datetime(2016, 2, 5, 6, 49, 26),\n",
       " datetime.datetime(2015, 6, 30, 22, 38, 41),\n",
       " datetime.datetime(2016, 2, 5, 6, 49, 26),\n",
       " datetime.datetime(2015, 6, 30, 22, 36, 30),\n",
       " datetime.datetime(2016, 2, 5, 6, 49, 26),\n",
       " datetime.datetime(2015, 6, 30, 22, 34, 7),\n",
       " datetime.datetime(2016, 2, 5, 6, 49, 27),\n",
       " datetime.datetime(2015, 6, 30, 22, 35, 13),\n",
       " datetime.datetime(2016, 2, 5, 6, 49, 27),\n",
       " datetime.datetime(2015, 6, 30, 22, 33, 56),\n",
       " datetime.datetime(2016, 2, 5, 6, 49, 27),\n",
       " datetime.datetime(2015, 6, 30, 22, 37, 44),\n",
       " datetime.datetime(2016, 2, 5, 6, 49, 27),\n",
       " datetime.datetime(2015, 6, 30, 22, 35, 45),\n",
       " datetime.datetime(2016, 2, 5, 6, 49, 27),\n",
       " datetime.datetime(2015, 6, 30, 22, 39, 12),\n",
       " datetime.datetime(2016, 2, 5, 6, 49, 27),\n",
       " datetime.datetime(2015, 6, 30, 22, 36, 52),\n",
       " datetime.datetime(2016, 2, 5, 6, 49, 27),\n",
       " datetime.datetime(2015, 6, 30, 22, 33, 57),\n",
       " datetime.datetime(2016, 2, 5, 6, 49, 27),\n",
       " datetime.datetime(2015, 6, 30, 22, 35, 9),\n",
       " datetime.datetime(2016, 2, 5, 6, 49, 28),\n",
       " datetime.datetime(2015, 6, 30, 22, 39, 35),\n",
       " datetime.datetime(2016, 2, 5, 6, 49, 28),\n",
       " datetime.datetime(2015, 6, 30, 22, 37, 30),\n",
       " datetime.datetime(2016, 2, 5, 6, 49, 28),\n",
       " datetime.datetime(2015, 6, 30, 22, 39, 9),\n",
       " datetime.datetime(2016, 2, 5, 6, 49, 28),\n",
       " datetime.datetime(2015, 6, 30, 22, 38, 22),\n",
       " datetime.datetime(2016, 2, 5, 6, 49, 28),\n",
       " datetime.datetime(2015, 6, 30, 22, 38, 7),\n",
       " datetime.datetime(2016, 2, 5, 6, 49, 28),\n",
       " datetime.datetime(2015, 6, 30, 22, 33, 57),\n",
       " datetime.datetime(2016, 2, 5, 6, 49, 28),\n",
       " datetime.datetime(2015, 6, 30, 22, 37),\n",
       " datetime.datetime(2016, 2, 5, 6, 49, 28),\n",
       " datetime.datetime(2015, 6, 30, 22, 39, 15),\n",
       " datetime.datetime(2016, 2, 5, 6, 49, 29),\n",
       " datetime.datetime(2015, 6, 30, 22, 39, 8),\n",
       " datetime.datetime(2016, 2, 5, 6, 49, 29),\n",
       " datetime.datetime(2015, 6, 30, 22, 34, 49),\n",
       " datetime.datetime(2016, 2, 5, 6, 49, 29),\n",
       " datetime.datetime(2015, 6, 30, 22, 38, 31),\n",
       " datetime.datetime(2016, 2, 5, 6, 49, 29),\n",
       " datetime.datetime(2015, 6, 30, 22, 35, 43),\n",
       " datetime.datetime(2016, 2, 5, 6, 49, 29),\n",
       " datetime.datetime(2015, 6, 30, 22, 38),\n",
       " datetime.datetime(2016, 2, 5, 6, 49, 29),\n",
       " datetime.datetime(2015, 6, 30, 22, 40, 1),\n",
       " datetime.datetime(2016, 2, 5, 6, 49, 29),\n",
       " datetime.datetime(2015, 6, 30, 22, 34, 56),\n",
       " datetime.datetime(2016, 2, 5, 6, 49, 29),\n",
       " datetime.datetime(2015, 6, 30, 22, 35, 59),\n",
       " datetime.datetime(2016, 2, 5, 6, 49, 29),\n",
       " datetime.datetime(2015, 6, 30, 22, 38, 24),\n",
       " datetime.datetime(2016, 2, 5, 6, 49, 30),\n",
       " datetime.datetime(2015, 6, 30, 22, 33, 55),\n",
       " datetime.datetime(2016, 2, 5, 6, 49, 30),\n",
       " datetime.datetime(2015, 6, 30, 22, 37, 32),\n",
       " datetime.datetime(2016, 2, 5, 6, 49, 30),\n",
       " datetime.datetime(2015, 6, 30, 22, 34),\n",
       " datetime.datetime(2016, 2, 5, 6, 49, 30),\n",
       " datetime.datetime(2015, 6, 30, 22, 38, 33),\n",
       " datetime.datetime(2016, 2, 5, 6, 49, 30),\n",
       " datetime.datetime(2015, 6, 30, 22, 39, 13),\n",
       " datetime.datetime(2016, 2, 5, 6, 50, 30),\n",
       " datetime.datetime(2015, 6, 30, 22, 39, 29),\n",
       " datetime.datetime(2016, 2, 5, 6, 50, 31),\n",
       " datetime.datetime(2015, 6, 30, 22, 39, 56),\n",
       " datetime.datetime(2016, 2, 5, 6, 50, 30),\n",
       " datetime.datetime(2015, 6, 30, 22, 38, 43),\n",
       " datetime.datetime(2016, 2, 5, 6, 50, 30),\n",
       " datetime.datetime(2015, 6, 30, 22, 36, 25),\n",
       " datetime.datetime(2016, 2, 5, 6, 50, 30),\n",
       " datetime.datetime(2015, 6, 30, 22, 39, 43),\n",
       " datetime.datetime(2016, 2, 5, 6, 50, 30),\n",
       " datetime.datetime(2015, 6, 30, 22, 34, 4),\n",
       " datetime.datetime(2016, 2, 5, 6, 50, 30),\n",
       " datetime.datetime(2015, 6, 30, 22, 37, 2),\n",
       " datetime.datetime(2016, 2, 5, 6, 50, 31),\n",
       " datetime.datetime(2015, 6, 30, 22, 35),\n",
       " datetime.datetime(2016, 2, 5, 6, 50, 31),\n",
       " datetime.datetime(2015, 6, 30, 22, 36, 19),\n",
       " datetime.datetime(2016, 2, 5, 6, 50, 31),\n",
       " datetime.datetime(2015, 6, 30, 22, 38, 59),\n",
       " datetime.datetime(2016, 2, 5, 6, 50, 31),\n",
       " datetime.datetime(2015, 6, 30, 22, 39, 50),\n",
       " datetime.datetime(2016, 2, 5, 6, 50, 31),\n",
       " datetime.datetime(2015, 6, 30, 22, 37, 42),\n",
       " datetime.datetime(2016, 2, 5, 6, 50, 32),\n",
       " datetime.datetime(2015, 6, 30, 22, 37, 51),\n",
       " datetime.datetime(2016, 2, 5, 6, 50, 31),\n",
       " datetime.datetime(2015, 6, 30, 22, 34, 51),\n",
       " datetime.datetime(2016, 2, 5, 6, 50, 31),\n",
       " datetime.datetime(2015, 6, 30, 22, 35, 15),\n",
       " datetime.datetime(2016, 2, 5, 6, 50, 32),\n",
       " datetime.datetime(2015, 6, 30, 22, 39, 15),\n",
       " datetime.datetime(2016, 2, 5, 6, 50, 32),\n",
       " datetime.datetime(2015, 6, 30, 22, 40, 4),\n",
       " datetime.datetime(2016, 2, 5, 6, 50, 32),\n",
       " datetime.datetime(2015, 6, 30, 22, 38, 10),\n",
       " datetime.datetime(2016, 2, 5, 6, 50, 32),\n",
       " datetime.datetime(2015, 6, 30, 22, 39, 47),\n",
       " datetime.datetime(2016, 2, 5, 6, 50, 32),\n",
       " datetime.datetime(2015, 6, 30, 22, 36, 21),\n",
       " datetime.datetime(2016, 2, 5, 6, 50, 32),\n",
       " datetime.datetime(2015, 6, 30, 22, 40, 4),\n",
       " datetime.datetime(2016, 2, 5, 6, 50, 32),\n",
       " datetime.datetime(2015, 6, 30, 22, 37, 51),\n",
       " datetime.datetime(2016, 2, 5, 6, 50, 32),\n",
       " datetime.datetime(2015, 6, 30, 22, 38, 43),\n",
       " datetime.datetime(2016, 2, 5, 6, 50, 34),\n",
       " datetime.datetime(2015, 6, 30, 22, 40, 3),\n",
       " datetime.datetime(2016, 2, 5, 6, 50, 33),\n",
       " datetime.datetime(2015, 6, 30, 22, 38, 3),\n",
       " datetime.datetime(2016, 2, 5, 6, 50, 33),\n",
       " datetime.datetime(2015, 6, 30, 22, 38, 17),\n",
       " datetime.datetime(2016, 2, 5, 6, 50, 33),\n",
       " datetime.datetime(2015, 6, 30, 22, 35, 31),\n",
       " datetime.datetime(2016, 2, 5, 6, 50, 33),\n",
       " datetime.datetime(2015, 6, 30, 22, 36, 30),\n",
       " datetime.datetime(2016, 2, 5, 6, 50, 33),\n",
       " datetime.datetime(2015, 6, 30, 22, 38, 44),\n",
       " datetime.datetime(2016, 2, 5, 6, 50, 33),\n",
       " datetime.datetime(2015, 6, 30, 22, 36, 12),\n",
       " datetime.datetime(2016, 2, 5, 6, 50, 33),\n",
       " datetime.datetime(2015, 6, 30, 22, 36, 53),\n",
       " datetime.datetime(2016, 2, 5, 6, 50, 33),\n",
       " datetime.datetime(2015, 6, 30, 22, 33, 47),\n",
       " datetime.datetime(2016, 2, 5, 6, 50, 33),\n",
       " datetime.datetime(2015, 6, 30, 22, 37, 54),\n",
       " datetime.datetime(2016, 2, 5, 6, 50, 34),\n",
       " datetime.datetime(2015, 6, 30, 22, 39, 47),\n",
       " datetime.datetime(2016, 2, 5, 6, 50, 35),\n",
       " datetime.datetime(2015, 6, 30, 22, 34, 23),\n",
       " datetime.datetime(2016, 2, 5, 6, 50, 34),\n",
       " datetime.datetime(2015, 6, 30, 22, 34, 10),\n",
       " datetime.datetime(2016, 2, 5, 6, 50, 34),\n",
       " datetime.datetime(2015, 6, 30, 22, 33, 48),\n",
       " datetime.datetime(2016, 2, 5, 6, 50, 34),\n",
       " datetime.datetime(2015, 6, 30, 22, 38, 10),\n",
       " datetime.datetime(2016, 2, 5, 6, 50, 34),\n",
       " datetime.datetime(2015, 6, 30, 22, 34, 16),\n",
       " datetime.datetime(2016, 2, 5, 6, 50, 34),\n",
       " datetime.datetime(2015, 6, 30, 22, 38, 10),\n",
       " datetime.datetime(2016, 2, 5, 6, 50, 34),\n",
       " datetime.datetime(2015, 6, 30, 22, 35, 17),\n",
       " datetime.datetime(2016, 2, 5, 6, 50, 34),\n",
       " datetime.datetime(2015, 6, 30, 22, 36, 21),\n",
       " datetime.datetime(2016, 2, 5, 6, 50, 35),\n",
       " datetime.datetime(2015, 6, 30, 22, 37, 29),\n",
       " datetime.datetime(2016, 2, 5, 6, 50, 35),\n",
       " datetime.datetime(2015, 6, 30, 22, 39, 31),\n",
       " datetime.datetime(2016, 2, 5, 6, 50, 35),\n",
       " datetime.datetime(2015, 6, 30, 22, 38, 28),\n",
       " datetime.datetime(2016, 2, 5, 6, 50, 36),\n",
       " datetime.datetime(2015, 6, 30, 22, 35, 37),\n",
       " datetime.datetime(2016, 2, 5, 6, 50, 35),\n",
       " datetime.datetime(2015, 6, 30, 22, 34, 34),\n",
       " datetime.datetime(2016, 2, 5, 6, 50, 35),\n",
       " datetime.datetime(2015, 6, 30, 22, 39, 34),\n",
       " datetime.datetime(2016, 2, 5, 6, 50, 35),\n",
       " datetime.datetime(2015, 6, 30, 22, 34, 39),\n",
       " datetime.datetime(2016, 2, 5, 6, 50, 35),\n",
       " datetime.datetime(2015, 6, 30, 22, 39, 55),\n",
       " datetime.datetime(2016, 2, 5, 6, 50, 35),\n",
       " datetime.datetime(2015, 6, 30, 22, 34, 43),\n",
       " datetime.datetime(2016, 2, 5, 6, 50, 36),\n",
       " datetime.datetime(2015, 6, 30, 22, 39, 11),\n",
       " datetime.datetime(2016, 2, 5, 6, 50, 36),\n",
       " datetime.datetime(2015, 6, 30, 22, 35, 13),\n",
       " datetime.datetime(2016, 2, 5, 6, 50, 36),\n",
       " datetime.datetime(2015, 6, 30, 22, 34, 27),\n",
       " datetime.datetime(2016, 2, 5, 6, 50, 36),\n",
       " datetime.datetime(2015, 6, 30, 22, 38, 44),\n",
       " datetime.datetime(2016, 2, 5, 6, 50, 36),\n",
       " datetime.datetime(2015, 6, 30, 22, 34, 23),\n",
       " datetime.datetime(2016, 2, 5, 6, 50, 37),\n",
       " datetime.datetime(2015, 6, 30, 22, 34, 40),\n",
       " datetime.datetime(2016, 2, 5, 6, 50, 36),\n",
       " datetime.datetime(2015, 6, 30, 22, 39, 45),\n",
       " datetime.datetime(2016, 2, 5, 6, 50, 36),\n",
       " datetime.datetime(2015, 6, 30, 22, 38, 51),\n",
       " datetime.datetime(2016, 2, 5, 6, 50, 36),\n",
       " datetime.datetime(2015, 6, 30, 22, 37, 25),\n",
       " datetime.datetime(2016, 2, 5, 6, 50, 37),\n",
       " datetime.datetime(2015, 6, 30, 22, 35, 3),\n",
       " datetime.datetime(2016, 2, 5, 6, 50, 37),\n",
       " datetime.datetime(2015, 6, 30, 22, 35, 26),\n",
       " datetime.datetime(2016, 2, 5, 6, 50, 37),\n",
       " datetime.datetime(2015, 6, 30, 22, 38, 21),\n",
       " datetime.datetime(2016, 2, 5, 6, 50, 37),\n",
       " datetime.datetime(2015, 6, 30, 22, 35, 59),\n",
       " datetime.datetime(2016, 2, 5, 6, 50, 37),\n",
       " datetime.datetime(2015, 6, 30, 22, 36, 58),\n",
       " datetime.datetime(2016, 2, 5, 6, 50, 37),\n",
       " datetime.datetime(2015, 6, 30, 22, 37, 35),\n",
       " datetime.datetime(2016, 2, 5, 6, 50, 37),\n",
       " datetime.datetime(2015, 6, 30, 22, 36, 21),\n",
       " datetime.datetime(2016, 2, 5, 6, 50, 38),\n",
       " datetime.datetime(2015, 6, 30, 22, 37, 58),\n",
       " datetime.datetime(2016, 2, 5, 6, 50, 38),\n",
       " datetime.datetime(2015, 6, 30, 22, 35, 16),\n",
       " datetime.datetime(2016, 2, 5, 6, 50, 38),\n",
       " datetime.datetime(2015, 6, 30, 22, 39, 44),\n",
       " datetime.datetime(2016, 2, 5, 6, 50, 38),\n",
       " datetime.datetime(2015, 6, 30, 22, 34, 6),\n",
       " datetime.datetime(2016, 2, 5, 6, 50, 38),\n",
       " datetime.datetime(2015, 6, 30, 22, 37, 43),\n",
       " datetime.datetime(2016, 2, 5, 6, 50, 38),\n",
       " datetime.datetime(2015, 6, 30, 22, 39, 48),\n",
       " datetime.datetime(2016, 2, 5, 6, 50, 38),\n",
       " datetime.datetime(2015, 6, 30, 22, 37, 10),\n",
       " datetime.datetime(2016, 2, 5, 6, 50, 39),\n",
       " datetime.datetime(2015, 6, 30, 22, 36, 29),\n",
       " datetime.datetime(2016, 2, 5, 6, 51, 2),\n",
       " datetime.datetime(2015, 6, 30, 22, 34, 4),\n",
       " datetime.datetime(2016, 2, 5, 6, 51, 3),\n",
       " datetime.datetime(2015, 6, 30, 22, 35, 10),\n",
       " datetime.datetime(2016, 2, 5, 6, 51, 2),\n",
       " datetime.datetime(2015, 6, 30, 22, 38, 6),\n",
       " datetime.datetime(2016, 2, 5, 6, 51, 2),\n",
       " datetime.datetime(2015, 6, 30, 22, 37, 13),\n",
       " datetime.datetime(2016, 2, 5, 6, 51, 2),\n",
       " datetime.datetime(2015, 6, 30, 22, 35, 5),\n",
       " datetime.datetime(2016, 2, 5, 6, 51, 2),\n",
       " datetime.datetime(2015, 6, 30, 22, 36, 52),\n",
       " datetime.datetime(2016, 2, 5, 6, 51, 2),\n",
       " datetime.datetime(2015, 6, 30, 22, 33, 52),\n",
       " datetime.datetime(2016, 2, 5, 6, 51, 2),\n",
       " datetime.datetime(2015, 6, 30, 22, 34, 13),\n",
       " datetime.datetime(2016, 2, 5, 6, 51, 2),\n",
       " datetime.datetime(2015, 6, 30, 22, 39, 26),\n",
       " datetime.datetime(2016, 2, 5, 6, 51, 3),\n",
       " datetime.datetime(2015, 6, 30, 22, 36, 24),\n",
       " datetime.datetime(2016, 2, 5, 6, 51, 3),\n",
       " datetime.datetime(2015, 6, 30, 22, 35, 33),\n",
       " datetime.datetime(2016, 2, 5, 6, 51, 3),\n",
       " datetime.datetime(2015, 6, 30, 22, 39, 22),\n",
       " datetime.datetime(2016, 2, 5, 6, 51, 4),\n",
       " datetime.datetime(2015, 6, 30, 22, 34, 57),\n",
       " datetime.datetime(2016, 2, 5, 6, 51, 3),\n",
       " datetime.datetime(2015, 6, 30, 22, 37, 5),\n",
       " datetime.datetime(2016, 2, 5, 6, 51, 3),\n",
       " datetime.datetime(2015, 6, 30, 22, 35, 54),\n",
       " datetime.datetime(2016, 2, 5, 6, 51, 3),\n",
       " datetime.datetime(2015, 6, 30, 22, 34, 44),\n",
       " datetime.datetime(2016, 2, 5, 6, 51, 3),\n",
       " datetime.datetime(2015, 6, 30, 22, 39, 30),\n",
       " datetime.datetime(2016, 2, 5, 6, 51, 3),\n",
       " datetime.datetime(2015, 6, 30, 22, 34, 3),\n",
       " datetime.datetime(2016, 2, 5, 6, 51, 4),\n",
       " datetime.datetime(2015, 6, 30, 22, 34, 21),\n",
       " datetime.datetime(2016, 2, 5, 6, 51, 4),\n",
       " datetime.datetime(2015, 6, 30, 22, 33, 51),\n",
       " datetime.datetime(2016, 2, 5, 6, 51, 4),\n",
       " datetime.datetime(2015, 6, 30, 22, 36, 44),\n",
       " datetime.datetime(2016, 2, 5, 6, 51, 4),\n",
       " datetime.datetime(2015, 6, 30, 22, 33, 44),\n",
       " datetime.datetime(2016, 2, 5, 6, 51, 4),\n",
       " datetime.datetime(2015, 6, 30, 22, 37, 12),\n",
       " datetime.datetime(2016, 2, 5, 6, 51, 5),\n",
       " datetime.datetime(2015, 6, 30, 22, 38, 15),\n",
       " datetime.datetime(2016, 2, 5, 6, 51, 4),\n",
       " datetime.datetime(2015, 6, 30, 22, 39, 18),\n",
       " datetime.datetime(2016, 2, 5, 6, 51, 4),\n",
       " datetime.datetime(2015, 6, 30, 22, 39, 22),\n",
       " datetime.datetime(2016, 2, 5, 6, 51, 4),\n",
       " datetime.datetime(2015, 6, 30, 22, 36, 34),\n",
       " datetime.datetime(2016, 2, 5, 6, 51, 4),\n",
       " datetime.datetime(2015, 6, 30, 22, 37, 47),\n",
       " datetime.datetime(2016, 2, 5, 6, 51, 4),\n",
       " datetime.datetime(2015, 6, 30, 22, 38, 21),\n",
       " datetime.datetime(2016, 2, 5, 6, 51, 4),\n",
       " datetime.datetime(2015, 6, 30, 22, 35, 52),\n",
       " datetime.datetime(2016, 2, 5, 6, 51, 4),\n",
       " datetime.datetime(2015, 6, 30, 22, 39, 55),\n",
       " datetime.datetime(2016, 2, 5, 6, 51, 4),\n",
       " datetime.datetime(2015, 6, 30, 22, 34, 47),\n",
       " datetime.datetime(2016, 2, 5, 6, 51, 5),\n",
       " datetime.datetime(2015, 6, 30, 22, 34, 47),\n",
       " datetime.datetime(2016, 2, 5, 6, 51, 5),\n",
       " datetime.datetime(2015, 6, 30, 22, 35, 22),\n",
       " datetime.datetime(2016, 2, 5, 6, 51, 6),\n",
       " datetime.datetime(2015, 6, 30, 22, 37, 29),\n",
       " datetime.datetime(2016, 2, 5, 6, 51, 5),\n",
       " datetime.datetime(2015, 6, 30, 22, 35, 59),\n",
       " datetime.datetime(2016, 2, 5, 6, 51, 5),\n",
       " datetime.datetime(2015, 6, 30, 22, 38, 11),\n",
       " datetime.datetime(2016, 2, 5, 6, 51, 5),\n",
       " datetime.datetime(2015, 6, 30, 22, 37, 29),\n",
       " datetime.datetime(2016, 2, 5, 6, 51, 5),\n",
       " datetime.datetime(2015, 6, 30, 22, 35, 17),\n",
       " datetime.datetime(2016, 2, 5, 6, 51, 5),\n",
       " datetime.datetime(2015, 6, 30, 22, 33, 41),\n",
       " datetime.datetime(2016, 2, 5, 6, 51, 5),\n",
       " datetime.datetime(2015, 6, 30, 22, 35, 21),\n",
       " datetime.datetime(2016, 2, 5, 6, 51, 6),\n",
       " datetime.datetime(2015, 6, 30, 22, 38, 59),\n",
       " datetime.datetime(2016, 2, 5, 6, 51, 6),\n",
       " datetime.datetime(2015, 6, 30, 22, 38, 14),\n",
       " datetime.datetime(2016, 2, 5, 6, 51, 6),\n",
       " datetime.datetime(2015, 6, 30, 22, 35, 26),\n",
       " datetime.datetime(2016, 2, 5, 6, 51, 6),\n",
       " datetime.datetime(2015, 6, 30, 22, 35, 42),\n",
       " datetime.datetime(2016, 2, 5, 6, 51, 7),\n",
       " datetime.datetime(2015, 6, 30, 22, 35, 33),\n",
       " datetime.datetime(2016, 2, 5, 6, 51, 6),\n",
       " datetime.datetime(2015, 6, 30, 22, 36, 33),\n",
       " datetime.datetime(2016, 2, 5, 6, 51, 6),\n",
       " datetime.datetime(2015, 6, 30, 22, 35, 21),\n",
       " datetime.datetime(2016, 2, 5, 6, 51, 6),\n",
       " datetime.datetime(2015, 6, 30, 22, 37, 36),\n",
       " datetime.datetime(2016, 2, 5, 6, 51, 6),\n",
       " datetime.datetime(2015, 6, 30, 22, 35, 11),\n",
       " datetime.datetime(2016, 2, 5, 6, 51, 7),\n",
       " datetime.datetime(2015, 6, 30, 22, 35, 52),\n",
       " datetime.datetime(2016, 2, 5, 6, 51, 7),\n",
       " datetime.datetime(2015, 6, 30, 22, 39, 6),\n",
       " datetime.datetime(2016, 2, 5, 6, 51, 7),\n",
       " datetime.datetime(2015, 6, 30, 22, 38, 6),\n",
       " datetime.datetime(2016, 2, 5, 6, 51, 7),\n",
       " datetime.datetime(2015, 6, 30, 22, 39, 11),\n",
       " datetime.datetime(2016, 2, 5, 6, 51, 7),\n",
       " datetime.datetime(2015, 6, 30, 22, 36, 49),\n",
       " datetime.datetime(2016, 2, 5, 6, 51, 7),\n",
       " datetime.datetime(2015, 6, 30, 22, 38, 3),\n",
       " datetime.datetime(2016, 2, 5, 6, 51, 8),\n",
       " datetime.datetime(2015, 6, 30, 22, 37, 58),\n",
       " datetime.datetime(2016, 2, 5, 6, 51, 7),\n",
       " datetime.datetime(2015, 6, 30, 22, 35, 25),\n",
       " datetime.datetime(2016, 2, 5, 6, 51, 7),\n",
       " datetime.datetime(2015, 6, 30, 22, 38, 6),\n",
       " datetime.datetime(2016, 2, 5, 6, 51, 8),\n",
       " datetime.datetime(2015, 6, 30, 22, 38, 6),\n",
       " datetime.datetime(2016, 2, 5, 6, 51, 8),\n",
       " datetime.datetime(2015, 6, 30, 22, 37, 2),\n",
       " datetime.datetime(2016, 2, 5, 6, 51, 8),\n",
       " datetime.datetime(2015, 6, 30, 22, 36, 30),\n",
       " datetime.datetime(2016, 2, 5, 6, 51, 8),\n",
       " datetime.datetime(2015, 6, 30, 22, 34, 47),\n",
       " datetime.datetime(2016, 2, 5, 6, 51, 8),\n",
       " datetime.datetime(2015, 6, 30, 22, 35, 31),\n",
       " datetime.datetime(2016, 2, 5, 6, 51, 8),\n",
       " datetime.datetime(2015, 6, 30, 22, 34, 52),\n",
       " datetime.datetime(2016, 2, 5, 6, 51, 8),\n",
       " datetime.datetime(2015, 6, 30, 22, 39, 50),\n",
       " datetime.datetime(2016, 2, 5, 6, 51, 8),\n",
       " datetime.datetime(2015, 6, 30, 22, 37, 40),\n",
       " datetime.datetime(2016, 2, 5, 6, 51, 9),\n",
       " datetime.datetime(2015, 6, 30, 22, 39, 23),\n",
       " datetime.datetime(2016, 2, 5, 6, 51, 9),\n",
       " datetime.datetime(2015, 6, 30, 22, 38, 24),\n",
       " datetime.datetime(2016, 2, 5, 6, 51, 9),\n",
       " datetime.datetime(2015, 6, 30, 22, 35, 17),\n",
       " datetime.datetime(2016, 2, 5, 6, 51, 9),\n",
       " datetime.datetime(2015, 6, 30, 22, 37, 32),\n",
       " datetime.datetime(2016, 2, 5, 6, 51, 9),\n",
       " datetime.datetime(2015, 6, 30, 22, 37, 3),\n",
       " datetime.datetime(2016, 2, 5, 6, 51, 9),\n",
       " datetime.datetime(2015, 6, 30, 22, 34, 22),\n",
       " datetime.datetime(2016, 2, 5, 6, 51, 9),\n",
       " datetime.datetime(2015, 6, 30, 22, 38, 33),\n",
       " datetime.datetime(2016, 2, 5, 6, 51, 9),\n",
       " datetime.datetime(2015, 6, 30, 22, 35, 41),\n",
       " datetime.datetime(2016, 2, 5, 6, 51, 10),\n",
       " datetime.datetime(2015, 6, 30, 22, 35, 48),\n",
       " datetime.datetime(2016, 2, 5, 6, 51, 11),\n",
       " datetime.datetime(2015, 6, 30, 22, 35, 17),\n",
       " datetime.datetime(2016, 2, 5, 6, 51, 10),\n",
       " datetime.datetime(2015, 6, 30, 22, 37, 3),\n",
       " datetime.datetime(2016, 2, 5, 6, 51, 10),\n",
       " datetime.datetime(2015, 6, 30, 22, 38, 7),\n",
       " datetime.datetime(2016, 2, 5, 6, 51, 10),\n",
       " datetime.datetime(2015, 6, 30, 22, 38, 24),\n",
       " datetime.datetime(2016, 2, 5, 6, 51, 10),\n",
       " datetime.datetime(2015, 6, 30, 22, 36, 50),\n",
       " datetime.datetime(2016, 2, 5, 6, 51, 10),\n",
       " datetime.datetime(2015, 6, 30, 22, 35, 2),\n",
       " datetime.datetime(2016, 2, 5, 6, 51, 10),\n",
       " datetime.datetime(2015, 6, 30, 22, 36, 4),\n",
       " datetime.datetime(2016, 2, 5, 6, 51, 10),\n",
       " datetime.datetime(2015, 6, 30, 22, 39, 45),\n",
       " datetime.datetime(2016, 2, 5, 6, 51, 10),\n",
       " datetime.datetime(2015, 6, 30, 22, 37, 26),\n",
       " datetime.datetime(2016, 2, 5, 6, 51, 11),\n",
       " datetime.datetime(2015, 6, 30, 22, 38, 18),\n",
       " datetime.datetime(2016, 2, 5, 6, 51, 11),\n",
       " datetime.datetime(2015, 6, 30, 22, 39, 4),\n",
       " datetime.datetime(2016, 2, 5, 6, 51, 12),\n",
       " datetime.datetime(2015, 6, 30, 22, 36, 4),\n",
       " datetime.datetime(2016, 2, 5, 6, 51, 11),\n",
       " datetime.datetime(2015, 6, 30, 22, 36, 39),\n",
       " datetime.datetime(2016, 2, 5, 6, 51, 11),\n",
       " datetime.datetime(2015, 6, 30, 22, 37, 44),\n",
       " datetime.datetime(2016, 2, 5, 6, 51, 11),\n",
       " datetime.datetime(2015, 6, 30, 22, 38, 25),\n",
       " datetime.datetime(2016, 2, 5, 6, 51, 11),\n",
       " datetime.datetime(2016, 2, 5, 6, 51, 13),\n",
       " datetime.datetime(2015, 6, 30, 22, 39, 41),\n",
       " datetime.datetime(2016, 2, 5, 6, 51, 15),\n",
       " datetime.datetime(2015, 6, 30, 22, 37, 53),\n",
       " datetime.datetime(2016, 2, 5, 6, 51, 16),\n",
       " datetime.datetime(2015, 6, 30, 22, 38, 4),\n",
       " datetime.datetime(2016, 2, 5, 6, 51, 17),\n",
       " datetime.datetime(2015, 6, 30, 22, 35, 48),\n",
       " datetime.datetime(2016, 2, 5, 6, 51, 18),\n",
       " datetime.datetime(2015, 6, 30, 22, 38, 47),\n",
       " datetime.datetime(2016, 2, 5, 6, 51, 18),\n",
       " datetime.datetime(2015, 6, 30, 22, 34, 34),\n",
       " datetime.datetime(2016, 2, 5, 6, 51, 18),\n",
       " datetime.datetime(2015, 6, 30, 22, 38, 4),\n",
       " datetime.datetime(2022, 5, 31, 18, 28, 40, 715168),\n",
       " datetime.datetime(2022, 5, 31, 18, 28, 45, 266090),\n",
       " datetime.datetime(2022, 5, 31, 18, 33, 6, 522561),\n",
       " datetime.datetime(2022, 5, 31, 18, 33, 2, 669869),\n",
       " datetime.datetime(2022, 5, 31, 18, 28, 49, 364154),\n",
       " datetime.datetime(2022, 5, 31, 18, 28, 53, 829964),\n",
       " datetime.datetime(2022, 5, 31, 8, 42, 14, 791170),\n",
       " datetime.datetime(2022, 5, 31, 8, 44, 13, 870020),\n",
       " datetime.datetime(2022, 5, 31, 8, 44, 19, 818596),\n",
       " datetime.datetime(2022, 5, 31, 8, 46, 27, 27214),\n",
       " datetime.datetime(2022, 5, 31, 8, 47, 10, 246106),\n",
       " datetime.datetime(2022, 5, 31, 8, 47, 12, 717525),\n",
       " datetime.datetime(2022, 5, 31, 8, 59, 59, 821328),\n",
       " datetime.datetime(2022, 5, 31, 9, 0, 1, 652869),\n",
       " datetime.datetime(2022, 5, 31, 22, 2, 13, 232130)]"
      ]
     },
     "execution_count": 9,
     "metadata": {},
     "output_type": "execute_result"
    }
   ],
   "source": [
    "base_df = []\n",
    "for file in os.listdir(audiopath):\n",
    "    # base_df.append(datetime.datetime.fromtimestamp(os.stat(os.path.join(audiopath,file)).st_mtime).timestamp())\n",
    "    base_df.append(datetime.datetime.fromtimestamp(os.stat(os.path.join(audiopath,file)).st_mtime))\n",
    "base_df"
   ]
  },
  {
   "cell_type": "code",
   "execution_count": 10,
   "id": "50cb2717-0a1c-4c93-b648-a970d04b1fbb",
   "metadata": {},
   "outputs": [],
   "source": [
    "# from pyspark import SparkFiles\n",
    "# # base_df = spark.read.text(SparkFiles.get(audiopath))\n",
    "# # base_df = SparkFiles.get(audiopath)\n",
    "# base_df[\"start\"] =  (datetime.datetime.fromtimestamp(os.stat(audiopath).st_mtime)\n",
    "# base_df"
   ]
  },
  {
   "cell_type": "code",
   "execution_count": 11,
   "id": "53c078f8-91e6-4b92-8068-366463ec7706",
   "metadata": {},
   "outputs": [],
   "source": [
    "# sample_logs = [item['value'] for item in base_df.take(15)]\n",
    "# sample_logs"
   ]
  },
  {
   "cell_type": "code",
   "execution_count": 12,
   "id": "1a96b574-a833-4d32-ae5c-23c5ec1af938",
   "metadata": {},
   "outputs": [],
   "source": [
    "# # creation_date(audiopath)\n",
    "# # print(\"Created: %s\" % creation_date(audiopath))\n",
    "# rtime = os.stat(audiopath).st_mtime\n",
    "# print(rtime)\n",
    "# print(\"Date created:\",datetime.datetime.fromtimestamp(rtime))"
   ]
  },
  {
   "cell_type": "code",
   "execution_count": 13,
   "id": "dea69109-bce6-4a57-90bf-f06386ae5e8b",
   "metadata": {},
   "outputs": [],
   "source": [
    "# from pyspark.sql.functions import regexp_extract\n",
    "\n",
    "# logs_df = base_df.select(datetime.datetime.fromtimestamp(os.stat(base_df).st_mtime).alias('timestamp'))\n",
    "# logs_df.show(10, truncate=True)\n",
    "# print((logs_df.count(), len(logs_df.columns)))"
   ]
  },
  {
   "cell_type": "markdown",
   "id": "8e3fe151-7467-41da-a449-c28720c00f2b",
   "metadata": {},
   "source": [
    "## Data Wrangling"
   ]
  },
  {
   "cell_type": "code",
   "execution_count": 14,
   "id": "8f159f7a-08e0-4271-9fab-625812cbce51",
   "metadata": {},
   "outputs": [],
   "source": [
    "# logs_df= pd.DataFrame(base_df)"
   ]
  },
  {
   "cell_type": "code",
   "execution_count": 15,
   "id": "12e1fae5-2ac6-44db-9059-36e9d0d319c4",
   "metadata": {},
   "outputs": [],
   "source": [
    "# print((base_df.count(), len(base_df.columns)))"
   ]
  },
  {
   "cell_type": "code",
   "execution_count": 16,
   "id": "26dcab38-f88d-4537-bb0a-5d8323714242",
   "metadata": {},
   "outputs": [
    {
     "name": "stdout",
     "output_type": "stream",
     "text": [
      "+-------------------+\n",
      "|          timestamp|\n",
      "+-------------------+\n",
      "|2016-02-05 06:49:25|\n",
      "|2015-06-30 22:33:58|\n",
      "|2016-02-05 06:49:25|\n",
      "|2015-06-30 22:35:58|\n",
      "|2016-02-05 06:49:25|\n",
      "|2015-06-30 22:37:50|\n",
      "|2016-02-05 06:49:25|\n",
      "|2015-06-30 22:37:23|\n",
      "|2016-02-05 06:49:25|\n",
      "|2015-06-30 22:38:08|\n",
      "|2016-02-05 06:49:25|\n",
      "|2015-06-30 22:35:40|\n",
      "|2016-02-05 06:49:25|\n",
      "|2015-06-30 22:39:29|\n",
      "|2016-02-05 06:49:26|\n",
      "|2015-06-30 22:39:51|\n",
      "|2016-02-05 06:49:26|\n",
      "|2015-06-30 22:34:07|\n",
      "|2016-02-05 06:49:26|\n",
      "|2015-06-30 22:39:25|\n",
      "+-------------------+\n",
      "only showing top 20 rows\n",
      "\n"
     ]
    }
   ],
   "source": [
    "from pyspark.sql.functions import col\n",
    "from pyspark.sql.types import TimestampType\n",
    "\n",
    "logs_df = spark.createDataFrame(base_df,TimestampType())\n",
    "logs_df = logs_df.select(col(\"value\").alias(\"timestamp\"))\n",
    "logs_df.show()"
   ]
  },
  {
   "cell_type": "markdown",
   "id": "6dd206be-c807-4846-b7aa-8c46c225fc6f",
   "metadata": {},
   "source": [
    "## Finding missing values, Drop or values outside of date range "
   ]
  },
  {
   "cell_type": "code",
   "execution_count": 17,
   "id": "aa5eccc2-0552-4bf6-8db1-482a67457e19",
   "metadata": {},
   "outputs": [
    {
     "data": {
      "text/plain": [
       "452"
      ]
     },
     "execution_count": 17,
     "metadata": {},
     "output_type": "execute_result"
    }
   ],
   "source": [
    "dates = (\"2015-01-01\",  \"2022-12-31\")\n",
    "# bad_rows_df = logs_df['timestamp'].between(*dates).show(truncate=False)\n",
    "useful_logs_df= logs_df.select(logs_df['timestamp'], logs_df['timestamp'].between(*dates))\n",
    "useful_logs_df.count()"
   ]
  },
  {
   "cell_type": "code",
   "execution_count": 18,
   "id": "ba8a528f-02f3-4592-a5f1-d8c6e32cf1a9",
   "metadata": {},
   "outputs": [
    {
     "name": "stdout",
     "output_type": "stream",
     "text": [
      "+-------------------+---------------------------------------------------------+\n",
      "|          timestamp|((timestamp >= 2015-01-01) AND (timestamp <= 2022-12-31))|\n",
      "+-------------------+---------------------------------------------------------+\n",
      "|2015-06-30 22:33:41|                                                     true|\n",
      "|2015-06-30 22:33:44|                                                     true|\n",
      "|2015-06-30 22:33:47|                                                     true|\n",
      "|2015-06-30 22:33:48|                                                     true|\n",
      "|2015-06-30 22:33:51|                                                     true|\n",
      "|2015-06-30 22:33:52|                                                     true|\n",
      "|2015-06-30 22:33:55|                                                     true|\n",
      "|2015-06-30 22:33:56|                                                     true|\n",
      "|2015-06-30 22:33:57|                                                     true|\n",
      "|2015-06-30 22:33:57|                                                     true|\n",
      "+-------------------+---------------------------------------------------------+\n",
      "only showing top 10 rows\n",
      "\n"
     ]
    }
   ],
   "source": [
    "logs_df = useful_logs_df[useful_logs_df[1]=='true']\n",
    "logs_df.orderBy(\"timestamp\").show(10, truncate=True)"
   ]
  },
  {
   "cell_type": "markdown",
   "id": "a2938fee-95b7-430f-8db8-133d7f862011",
   "metadata": {},
   "source": [
    "## RDD row to spark dataframe"
   ]
  },
  {
   "cell_type": "code",
   "execution_count": 19,
   "id": "16a9148f-d001-4081-8310-f17bf592e17f",
   "metadata": {},
   "outputs": [
    {
     "name": "stdout",
     "output_type": "stream",
     "text": [
      "root\n",
      " |-- startTime: timestamp (nullable = true)\n",
      " |-- endTime: timestamp (nullable = true)\n",
      " |-- calluuid: timestamp (nullable = true)\n",
      "\n"
     ]
    }
   ],
   "source": [
    "from pyspark.sql import Row\n",
    "\n",
    "new_rdd = useful_logs_df.rdd\n",
    "parsed_rdd = new_rdd.map(lambda r : Row(\\\n",
    "                                        startTime =r[0],\\\n",
    "                                        endTime=r[0],\\\n",
    "                                        calluuid=r[0]))\n",
    "df2 = spark.createDataFrame(parsed_rdd)\n",
    "df2.printSchema()"
   ]
  },
  {
   "cell_type": "code",
   "execution_count": 20,
   "id": "2d0e4721-abf6-4690-a5e6-7d31503990ec",
   "metadata": {},
   "outputs": [
    {
     "name": "stdout",
     "output_type": "stream",
     "text": [
      "-RECORD 0------------------------\n",
      " startTime | 2016-02-05 06:49:25 \n",
      " endTime   | 2016-02-05 06:49:25 \n",
      " calluuid  | 2016-02-05 06:49:25 \n",
      "only showing top 1 row\n",
      "\n"
     ]
    }
   ],
   "source": [
    "df2.show(1, vertical=True)"
   ]
  },
  {
   "cell_type": "markdown",
   "id": "7a51a059-362b-4f14-ac3f-a05b7454c7ba",
   "metadata": {},
   "source": [
    "### Daily - Request reponse network traffic "
   ]
  },
  {
   "cell_type": "code",
   "execution_count": 21,
   "id": "27345983-9f71-4948-a6b8-007e96ac3d62",
   "metadata": {},
   "outputs": [
    {
     "name": "stdout",
     "output_type": "stream",
     "text": [
      "+-------------------+---+\n",
      "|startTime          |day|\n",
      "+-------------------+---+\n",
      "|2016-02-05 06:49:25|5  |\n",
      "|2015-06-30 22:33:58|30 |\n",
      "|2016-02-05 06:49:25|5  |\n",
      "|2015-06-30 22:35:58|30 |\n",
      "|2016-02-05 06:49:25|5  |\n",
      "+-------------------+---+\n",
      "only showing top 5 rows\n",
      "\n"
     ]
    }
   ],
   "source": [
    "from pyspark.sql import functions as F\n",
    "\n",
    "# find the day of the month\n",
    "daily_traffic_df = df2.select(df2['startTime'], F.dayofmonth('startTime').alias('day'))\n",
    "daily_traffic_df.show(5, truncate=False)"
   ]
  },
  {
   "cell_type": "code",
   "execution_count": 22,
   "id": "0ca2775c-8c31-48f9-86c8-0d53fc5c2075",
   "metadata": {},
   "outputs": [
    {
     "data": {
      "text/html": [
       "<div>\n",
       "<style scoped>\n",
       "    .dataframe tbody tr th:only-of-type {\n",
       "        vertical-align: middle;\n",
       "    }\n",
       "\n",
       "    .dataframe tbody tr th {\n",
       "        vertical-align: top;\n",
       "    }\n",
       "\n",
       "    .dataframe thead th {\n",
       "        text-align: right;\n",
       "    }\n",
       "</style>\n",
       "<table border=\"1\" class=\"dataframe\">\n",
       "  <thead>\n",
       "    <tr style=\"text-align: right;\">\n",
       "      <th></th>\n",
       "      <th>day</th>\n",
       "      <th>count</th>\n",
       "    </tr>\n",
       "  </thead>\n",
       "  <tbody>\n",
       "    <tr>\n",
       "      <th>0</th>\n",
       "      <td>5</td>\n",
       "      <td>219</td>\n",
       "    </tr>\n",
       "    <tr>\n",
       "      <th>1</th>\n",
       "      <td>30</td>\n",
       "      <td>218</td>\n",
       "    </tr>\n",
       "    <tr>\n",
       "      <th>2</th>\n",
       "      <td>31</td>\n",
       "      <td>15</td>\n",
       "    </tr>\n",
       "  </tbody>\n",
       "</table>\n",
       "</div>"
      ],
      "text/plain": [
       "   day  count\n",
       "0    5    219\n",
       "1   30    218\n",
       "2   31     15"
      ]
     },
     "execution_count": 22,
     "metadata": {},
     "output_type": "execute_result"
    }
   ],
   "source": [
    "# Count of calls per day\n",
    "def_mr = pd.get_option('max_rows')\n",
    "pd.set_option('max_rows', 10)\n",
    "\n",
    "daily_df = (daily_traffic_df\n",
    "                     .groupBy('day')\n",
    "                     .count()\n",
    "                     .sort(\"day\"))\n",
    "\n",
    "daily_df = daily_df.toPandas()\n",
    "daily_df"
   ]
  },
  {
   "cell_type": "code",
   "execution_count": 23,
   "id": "68ca9059-6713-4d07-907f-8add559f2cc2",
   "metadata": {},
   "outputs": [
    {
     "data": {
      "image/png": "[encoded data removed]",
      "text/plain": [
       "<Figure size 540x360 with 1 Axes>"
      ]
     },
     "metadata": {
      "needs_background": "light"
     },
     "output_type": "display_data"
    }
   ],
   "source": [
    "c = sns.catplot(x='day', y='count',\n",
    "                data=daily_df,\n",
    "                kind='point', height=5,\n",
    "                aspect=1.5)"
   ]
  },
  {
   "cell_type": "markdown",
   "id": "c0f261c3-a5f2-479d-87d2-51d4ec269a05",
   "metadata": {},
   "source": [
    "### Hourly - Request reponse network traffic "
   ]
  },
  {
   "cell_type": "code",
   "execution_count": 24,
   "id": "741144cd-dfe4-42c5-b5e2-ea0976787924",
   "metadata": {},
   "outputs": [
    {
     "data": {
      "text/html": [
       "<div>\n",
       "<style scoped>\n",
       "    .dataframe tbody tr th:only-of-type {\n",
       "        vertical-align: middle;\n",
       "    }\n",
       "\n",
       "    .dataframe tbody tr th {\n",
       "        vertical-align: top;\n",
       "    }\n",
       "\n",
       "    .dataframe thead th {\n",
       "        text-align: right;\n",
       "    }\n",
       "</style>\n",
       "<table border=\"1\" class=\"dataframe\">\n",
       "  <thead>\n",
       "    <tr style=\"text-align: right;\">\n",
       "      <th></th>\n",
       "      <th>window</th>\n",
       "      <th>count</th>\n",
       "    </tr>\n",
       "  </thead>\n",
       "  <tbody>\n",
       "    <tr>\n",
       "      <th>0</th>\n",
       "      <td>(2016-02-05 06:45:00, 2016-02-05 07:00:00)</td>\n",
       "      <td>219</td>\n",
       "    </tr>\n",
       "    <tr>\n",
       "      <th>1</th>\n",
       "      <td>(2015-06-30 10:30:00, 2015-06-30 10:45:00)</td>\n",
       "      <td>218</td>\n",
       "    </tr>\n",
       "    <tr>\n",
       "      <th>2</th>\n",
       "      <td>(2022-05-31 08:45:00, 2022-05-31 09:00:00)</td>\n",
       "      <td>4</td>\n",
       "    </tr>\n",
       "    <tr>\n",
       "      <th>3</th>\n",
       "      <td>(2022-05-31 10:00:00, 2022-05-31 10:15:00)</td>\n",
       "      <td>1</td>\n",
       "    </tr>\n",
       "    <tr>\n",
       "      <th>4</th>\n",
       "      <td>(2022-05-31 08:30:00, 2022-05-31 08:45:00)</td>\n",
       "      <td>3</td>\n",
       "    </tr>\n",
       "    <tr>\n",
       "      <th>5</th>\n",
       "      <td>(2022-05-31 09:00:00, 2022-05-31 09:15:00)</td>\n",
       "      <td>1</td>\n",
       "    </tr>\n",
       "    <tr>\n",
       "      <th>6</th>\n",
       "      <td>(2022-05-31 06:30:00, 2022-05-31 06:45:00)</td>\n",
       "      <td>2</td>\n",
       "    </tr>\n",
       "    <tr>\n",
       "      <th>7</th>\n",
       "      <td>(2022-05-31 06:15:00, 2022-05-31 06:30:00)</td>\n",
       "      <td>4</td>\n",
       "    </tr>\n",
       "  </tbody>\n",
       "</table>\n",
       "</div>"
      ],
      "text/plain": [
       "                                       window  count\n",
       "0  (2016-02-05 06:45:00, 2016-02-05 07:00:00)    219\n",
       "1  (2015-06-30 10:30:00, 2015-06-30 10:45:00)    218\n",
       "2  (2022-05-31 08:45:00, 2022-05-31 09:00:00)      4\n",
       "3  (2022-05-31 10:00:00, 2022-05-31 10:15:00)      1\n",
       "4  (2022-05-31 08:30:00, 2022-05-31 08:45:00)      3\n",
       "5  (2022-05-31 09:00:00, 2022-05-31 09:15:00)      1\n",
       "6  (2022-05-31 06:30:00, 2022-05-31 06:45:00)      2\n",
       "7  (2022-05-31 06:15:00, 2022-05-31 06:30:00)      4"
      ]
     },
     "execution_count": 24,
     "metadata": {},
     "output_type": "execute_result"
    }
   ],
   "source": [
    "# Count of calls per hour\n",
    "\n",
    "from pyspark.sql.functions import col, count, date_format, date_sub, date_trunc, month, next_day, to_timestamp, weekofyear, window, year\n",
    "\n",
    "def_mr = pd.get_option('max_rows')\n",
    "pd.set_option('max_rows', 10)\n",
    "\n",
    "hourly_df = (daily_traffic_df\n",
    "                     .select(F.date_format('startTime','yyyy-MM-dd hh:mm:ss').alias('timestamp'))\n",
    "                     .groupBy(window('timestamp', \"15 minutes\"))\n",
    "                     .count())\n",
    "# hourly_df= hourly_df.groupBy('startTime', window('startTime', \"5 minutes\")).sum(\"metric\")\n",
    "\n",
    "hourly_df = hourly_df.toPandas()\n",
    "hourly_df"
   ]
  },
  {
   "cell_type": "code",
   "execution_count": 25,
   "id": "d811c56c-2c0f-4de0-956f-cfa949f1bdb2",
   "metadata": {},
   "outputs": [
    {
     "data": {
      "text/html": [
       "<div>\n",
       "<style scoped>\n",
       "    .dataframe tbody tr th:only-of-type {\n",
       "        vertical-align: middle;\n",
       "    }\n",
       "\n",
       "    .dataframe tbody tr th {\n",
       "        vertical-align: top;\n",
       "    }\n",
       "\n",
       "    .dataframe thead th {\n",
       "        text-align: right;\n",
       "    }\n",
       "</style>\n",
       "<table border=\"1\" class=\"dataframe\">\n",
       "  <thead>\n",
       "    <tr style=\"text-align: right;\">\n",
       "      <th></th>\n",
       "      <th>count</th>\n",
       "      <th>start</th>\n",
       "    </tr>\n",
       "  </thead>\n",
       "  <tbody>\n",
       "    <tr>\n",
       "      <th>0</th>\n",
       "      <td>219</td>\n",
       "      <td>2016-02-05 06:45:00</td>\n",
       "    </tr>\n",
       "    <tr>\n",
       "      <th>1</th>\n",
       "      <td>218</td>\n",
       "      <td>2015-06-30 10:30:00</td>\n",
       "    </tr>\n",
       "    <tr>\n",
       "      <th>2</th>\n",
       "      <td>4</td>\n",
       "      <td>2022-05-31 08:45:00</td>\n",
       "    </tr>\n",
       "    <tr>\n",
       "      <th>3</th>\n",
       "      <td>1</td>\n",
       "      <td>2022-05-31 10:00:00</td>\n",
       "    </tr>\n",
       "    <tr>\n",
       "      <th>4</th>\n",
       "      <td>3</td>\n",
       "      <td>2022-05-31 08:30:00</td>\n",
       "    </tr>\n",
       "    <tr>\n",
       "      <th>5</th>\n",
       "      <td>1</td>\n",
       "      <td>2022-05-31 09:00:00</td>\n",
       "    </tr>\n",
       "    <tr>\n",
       "      <th>6</th>\n",
       "      <td>2</td>\n",
       "      <td>2022-05-31 06:30:00</td>\n",
       "    </tr>\n",
       "    <tr>\n",
       "      <th>7</th>\n",
       "      <td>4</td>\n",
       "      <td>2022-05-31 06:15:00</td>\n",
       "    </tr>\n",
       "  </tbody>\n",
       "</table>\n",
       "</div>"
      ],
      "text/plain": [
       "   count               start\n",
       "0    219 2016-02-05 06:45:00\n",
       "1    218 2015-06-30 10:30:00\n",
       "2      4 2022-05-31 08:45:00\n",
       "3      1 2022-05-31 10:00:00\n",
       "4      3 2022-05-31 08:30:00\n",
       "5      1 2022-05-31 09:00:00\n",
       "6      2 2022-05-31 06:30:00\n",
       "7      4 2022-05-31 06:15:00"
      ]
     },
     "execution_count": 25,
     "metadata": {},
     "output_type": "execute_result"
    }
   ],
   "source": [
    "window_start = hourly_df['window'].map(lambda r : Row(start =r[0]))\n",
    "window_start= spark.createDataFrame(window_start).toPandas()\n",
    "hourly_df[\"start\"]=window_start\n",
    "hourly_df.drop(columns=[\"window\"], inplace=True)\n",
    "hourly_df"
   ]
  },
  {
   "cell_type": "code",
   "execution_count": 26,
   "id": "d41a4d0d-a0cc-43c6-9e16-7c92c516233e",
   "metadata": {},
   "outputs": [
    {
     "data": {
      "text/plain": [
       "<seaborn.axisgrid.FacetGrid at 0x1a7e2403460>"
      ]
     },
     "execution_count": 26,
     "metadata": {},
     "output_type": "execute_result"
    },
    {
     "data": {
      "text/plain": [
       "<Figure size 432x360 with 0 Axes>"
      ]
     },
     "metadata": {},
     "output_type": "display_data"
    },
    {
     "data": {
      "image/png": "[encoded data removed]",
      "text/plain": [
       "<Figure size 1296x216 with 1 Axes>"
      ]
     },
     "metadata": {
      "needs_background": "light"
     },
     "output_type": "display_data"
    }
   ],
   "source": [
    "plt.figure(figsize=(6,5))\n",
    "chart = sns.catplot(x='start', y='count',\n",
    "                data=hourly_df,\n",
    "                kind='bar', height=3, aspect=6)\n",
    "chart.set_xticklabels(rotation=65, horizontalalignment='right')"
   ]
  },
  {
   "cell_type": "markdown",
   "id": "76250b74-420d-4974-ac32-c1186f98a4ee",
   "metadata": {},
   "source": [
    "Ref \n",
    "- http://www-mmsp.ece.mcgill.ca/Documents/AudioFormats/WAVE/Samples.html\n",
    "-https://towardsdatascience.com/40-open-source-audio-datasets-for-ml-59dc39d48f06"
   ]
  },
  {
   "cell_type": "code",
   "execution_count": null,
   "id": "871bdadf-011b-483e-abe6-72a0efad595e",
   "metadata": {},
   "outputs": [],
   "source": []
  }
 ],
 "metadata": {
  "kernelspec": {
   "display_name": "Python 3 (ipykernel)",
   "language": "python",
   "name": "python3"
  },
  "language_info": {
   "codemirror_mode": {
    "name": "ipython",
    "version": 3
   },
   "file_extension": ".py",
   "mimetype": "text/x-python",
   "name": "python",
   "nbconvert_exporter": "python",
   "pygments_lexer": "ipython3",
   "version": "3.9.7"
  }
 },
 "nbformat": 4,
 "nbformat_minor": 5
}
