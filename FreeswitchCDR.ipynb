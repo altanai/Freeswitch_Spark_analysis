{
 "cells": [
  {
   "cell_type": "markdown",
   "id": "d820d0ae",
   "metadata": {},
   "source": [
    "# Freeswitch Log pyspark\n",
    "\n",
    "## Altanai Bisht \n",
    "( abisht@seattleu.edu\n",
    "altanai.telecom.com)\n",
    "\n",
    "License GPL 3"
   ]
  },
  {
   "cell_type": "code",
   "execution_count": 1,
   "id": "87469d1a-9f6c-431a-8bac-309998ed5821",
   "metadata": {},
   "outputs": [
    {
     "name": "stdout",
     "output_type": "stream",
     "text": [
      "C:\\Users\\abisht\\.jdks\\corretto-11.0.15\n"
     ]
    }
   ],
   "source": [
    "import os \n",
    "os.environ['JAVA_HOME']=\"C:\\\\Users\\\\abisht\\\\.jdks\\\\corretto-11.0.15\"\n",
    "print(os.environ['JAVA_HOME'])"
   ]
  },
  {
   "cell_type": "code",
   "execution_count": 2,
   "id": "46c72803",
   "metadata": {},
   "outputs": [
    {
     "data": {
      "text/plain": [
       "'C:\\\\Users\\\\abisht\\\\Downloads\\\\spark-3.2.1-bin-hadoop3.2\\\\spark-3.2.1-bin-hadoop3.2'"
      ]
     },
     "execution_count": 2,
     "metadata": {},
     "output_type": "execute_result"
    }
   ],
   "source": [
    "import findspark\n",
    "findspark.init()\n",
    "findspark.find()"
   ]
  },
  {
   "cell_type": "code",
   "execution_count": 3,
   "id": "1f8ebf45-3141-48da-9068-b901a2fdc378",
   "metadata": {},
   "outputs": [],
   "source": [
    "import pandas as pd\n",
    "import numpy as np"
   ]
  },
  {
   "cell_type": "code",
   "execution_count": 4,
   "id": "54698357",
   "metadata": {},
   "outputs": [],
   "source": [
    "import matplotlib.pyplot as plt\n",
    "import seaborn as sns\n",
    "import numpy as np\n",
    "%matplotlib inline"
   ]
  },
  {
   "cell_type": "code",
   "execution_count": 5,
   "id": "3cefea70",
   "metadata": {},
   "outputs": [],
   "source": [
    "import pyspark \n",
    "from pyspark.sql import SparkSession\n",
    "spark = SparkSession.builder.getOrCreate()"
   ]
  },
  {
   "cell_type": "code",
   "execution_count": 6,
   "id": "00f5b99b-2ecb-4774-a080-6b7583be2d85",
   "metadata": {},
   "outputs": [],
   "source": [
    "from pyspark.mllib.stat import Statistics "
   ]
  },
  {
   "cell_type": "markdown",
   "id": "010fde1f",
   "metadata": {},
   "source": [
    "# 1. Call Record\n",
    "\n",
    "FreeSWITCH CDRs stored in /usr/local/freeswitch/log/cdr-csv/Master.csv\n",
    "ref : https://freeswitch.org/confluence/display/FREESWITCH/CDR\n",
    "and https://freeswitch.org/confluence/display/FREESWITCH/mod_cdr_csv"
   ]
  },
  {
   "cell_type": "code",
   "execution_count": 7,
   "id": "693c0955",
   "metadata": {},
   "outputs": [],
   "source": [
    "# logfile = \"/fslogs/*.log\"\n",
    "# fslogs = sc.textFile(\"hdfs://localhost:9000/\"+logfile)\n",
    "filepath_csv= \"C:\\\\Users\\\\abisht\\\\FS_logs\\\\*.csv\"\n",
    "\n",
    "from pyspark import SparkFiles\n",
    "df = spark.read.csv(SparkFiles.get(filepath_csv), header=False, inferSchema= True)"
   ]
  },
  {
   "cell_type": "code",
   "execution_count": 8,
   "id": "3523d2b3",
   "metadata": {},
   "outputs": [],
   "source": [
    "from datetime import datetime, date\n",
    "import pandas as pd\n",
    "from pyspark.sql import Row\n",
    "import re\n",
    "\n",
    "# Example Freeswitch cdr-csv log line:\n",
    "# \"8001\",\"8001\",\"0046423112856\",\"public\",\"2020-06-13 00:58:52\",\"2020-06-13 00:58:52\",\"2020-06-13 00:58:53\",\"1\",\"1\",\"USER_NOT_REGISTERED\",\"f2b05a36-ace2-11ea-aa3b-153da8caf925\",\"\",\"\",\"PCMU\",\"PCMU\"\n",
    "# FS_LOG_PATTERN = '^(\\S+) (\\S+) (\\S+) \\[([\\w:/]+\\s[+\\-]\\d{4})\\] \"(\\S+) (\\S+) (\\S+)\" (\\d{3}) (\\d+)'"
   ]
  },
  {
   "cell_type": "code",
   "execution_count": 9,
   "id": "e65fcea0-6c9c-4de2-a251-c032b6eef999",
   "metadata": {},
   "outputs": [
    {
     "data": {
      "text/plain": [
       "['_c0',\n",
       " '_c1',\n",
       " '_c2',\n",
       " '_c3',\n",
       " '_c4',\n",
       " '_c5',\n",
       " '_c6',\n",
       " '_c7',\n",
       " '_c8',\n",
       " '_c9',\n",
       " '_c10',\n",
       " '_c11',\n",
       " '_c12',\n",
       " '_c13',\n",
       " '_c14']"
      ]
     },
     "execution_count": 9,
     "metadata": {},
     "output_type": "execute_result"
    }
   ],
   "source": [
    "df.columns"
   ]
  },
  {
   "cell_type": "code",
   "execution_count": 14,
   "id": "0001c099-d04b-4b53-9207-de6895e07c0f",
   "metadata": {},
   "outputs": [
    {
     "data": {
      "text/plain": [
       "[Row(_c0='8001', _c1='8001', _c2='0046423112856', _c3='public', _c4='2020-06-13 00:58:52', _c5='2020-06-13 00:58:52', _c6='2020-06-13 00:58:53', _c7=1, _c8='1', _c9='USER_NOT_REGISTERED', _c10='f2b05a36-ace2-11ea-aa3b-153da8caf925', _c11=None, _c12=None, _c13='PCMU', _c14='PCMU'),\n",
       " Row(_c0='8001', _c1='8001', _c2='00046423112856', _c3='public', _c4='2020-06-13 00:59:51', _c5='2020-06-13 00:59:51', _c6='2020-06-13 00:59:52', _c7=1, _c8='1', _c9='USER_NOT_REGISTERED', _c10='15d78f5c-ace3-11ea-aa45-153da8caf925', _c11=None, _c12=None, _c13='PCMU', _c14='PCMU'),\n",
       " Row(_c0='8001', _c1='8001', _c2='000046903433905', _c3='public', _c4='2020-06-13 01:00:13', _c5='2020-06-13 01:00:13', _c6='2020-06-13 01:00:14', _c7=1, _c8='1', _c9='USER_NOT_REGISTERED', _c10='22d77398-ace3-11ea-aa4f-153da8caf925', _c11=None, _c12=None, _c13='PCMU', _c14='PCMU'),\n",
       " Row(_c0='8001', _c1='8001', _c2='900046184445688', _c3='public', _c4='2020-06-13 01:00:36', _c5='2020-06-13 01:00:36', _c6='2020-06-13 01:00:37', _c7=1, _c8='1', _c9='USER_NOT_REGISTERED', _c10='30e9979a-ace3-11ea-aa59-153da8caf925', _c11=None, _c12=None, _c13='PCMU', _c14='PCMU'),\n",
       " Row(_c0='8001', _c1='8001', _c2='90046423112856', _c3='public', _c4='2020-06-13 01:00:43', _c5='2020-06-13 01:00:43', _c6='2020-06-13 01:00:44', _c7=1, _c8='1', _c9='USER_NOT_REGISTERED', _c10='35075b78-ace3-11ea-aa63-153da8caf925', _c11=None, _c12=None, _c13='PCMU', _c14='PCMU'),\n",
       " Row(_c0='8001', _c1='8001', _c2='900046903433905', _c3='public', _c4='2020-06-13 01:01:06', _c5='2020-06-13 01:01:06', _c6='2020-06-13 01:01:07', _c7=1, _c8='1', _c9='USER_NOT_REGISTERED', _c10='42f19a50-ace3-11ea-aa6d-153da8caf925', _c11=None, _c12=None, _c13='PCMU', _c14='PCMU'),\n",
       " Row(_c0='8001', _c1='8001', _c2='000046184445688', _c3='public', _c4='2020-06-13 01:01:56', _c5='2020-06-13 01:01:56', _c6='2020-06-13 01:01:57', _c7=1, _c8='1', _c9='USER_NOT_REGISTERED', _c10='603d0752-ace3-11ea-aa77-153da8caf925', _c11=None, _c12=None, _c13='PCMU', _c14='PCMU'),\n",
       " Row(_c0='8001', _c1='8001', _c2='990046903433905', _c3='public', _c4='2020-06-13 01:02:02', _c5='2020-06-13 01:02:02', _c6='2020-06-13 01:02:03', _c7=1, _c8='1', _c9='USER_NOT_REGISTERED', _c10='6453df78-ace3-11ea-aa81-153da8caf925', _c11=None, _c12=None, _c13='PCMU', _c14='PCMU'),\n",
       " Row(_c0=\"'or''='\", _c1=\"'or''='\", _c2='0046423112856', _c3='public', _c4='2020-06-13 01:02:44', _c5='2020-06-13 01:02:44', _c6='2020-06-13 01:02:45', _c7=1, _c8='1', _c9='USER_NOT_REGISTERED', _c10='7d0b9722-ace3-11ea-aa8b-153da8caf925', _c11=None, _c12=None, _c13='PCMU', _c14='PCMU')]"
      ]
     },
     "execution_count": 14,
     "metadata": {},
     "output_type": "execute_result"
    }
   ],
   "source": [
    "df.head(9)"
   ]
  },
  {
   "cell_type": "code",
   "execution_count": 10,
   "id": "e326d1f3-9ec3-472d-b025-326389b017bb",
   "metadata": {},
   "outputs": [],
   "source": [
    "parsed_df = df.select(df._c4, df._c6, df._c10)"
   ]
  },
  {
   "cell_type": "code",
   "execution_count": 11,
   "id": "2d19c91e",
   "metadata": {},
   "outputs": [
    {
     "data": {
      "text/plain": [
       "[Row(_c4='2020-06-13 00:58:52', _c6='2020-06-13 00:58:53', _c10='f2b05a36-ace2-11ea-aa3b-153da8caf925'),\n",
       " Row(_c4='2020-06-13 00:59:51', _c6='2020-06-13 00:59:52', _c10='15d78f5c-ace3-11ea-aa45-153da8caf925'),\n",
       " Row(_c4='2020-06-13 01:00:13', _c6='2020-06-13 01:00:14', _c10='22d77398-ace3-11ea-aa4f-153da8caf925'),\n",
       " Row(_c4='2020-06-13 01:00:36', _c6='2020-06-13 01:00:37', _c10='30e9979a-ace3-11ea-aa59-153da8caf925'),\n",
       " Row(_c4='2020-06-13 01:00:43', _c6='2020-06-13 01:00:44', _c10='35075b78-ace3-11ea-aa63-153da8caf925'),\n",
       " Row(_c4='2020-06-13 01:01:06', _c6='2020-06-13 01:01:07', _c10='42f19a50-ace3-11ea-aa6d-153da8caf925'),\n",
       " Row(_c4='2020-06-13 01:01:56', _c6='2020-06-13 01:01:57', _c10='603d0752-ace3-11ea-aa77-153da8caf925'),\n",
       " Row(_c4='2020-06-13 01:02:02', _c6='2020-06-13 01:02:03', _c10='6453df78-ace3-11ea-aa81-153da8caf925'),\n",
       " Row(_c4='2020-06-13 01:02:44', _c6='2020-06-13 01:02:45', _c10='7d0b9722-ace3-11ea-aa8b-153da8caf925')]"
      ]
     },
     "execution_count": 11,
     "metadata": {},
     "output_type": "execute_result"
    }
   ],
   "source": [
    "parsed_df.head(9)"
   ]
  },
  {
   "cell_type": "code",
   "execution_count": 15,
   "id": "fd0bbdde-b0bc-4b0a-9ad2-f7a0e3aed8ba",
   "metadata": {},
   "outputs": [],
   "source": [
    "new_rdd = parsed_df.rdd"
   ]
  },
  {
   "cell_type": "code",
   "execution_count": 16,
   "id": "374fee5c-c870-46b9-a4a4-18f013c465be",
   "metadata": {},
   "outputs": [],
   "source": [
    "from pyspark.sql import Row\n",
    "parsed_rdd = new_rdd.map(lambda r : Row(\\\n",
    "                                        startTime =r[0],\\\n",
    "                                        endTime=r[1],\\\n",
    "                                        calluuid=r[-1]))\n",
    "df2 = spark.createDataFrame(parsed_rdd)"
   ]
  },
  {
   "cell_type": "code",
   "execution_count": 17,
   "id": "168fc1c2",
   "metadata": {},
   "outputs": [],
   "source": [
    "# df2 = spark.createDataFrame(df)\n",
    "# TypeError: data is already a DataFrame"
   ]
  },
  {
   "cell_type": "code",
   "execution_count": 18,
   "id": "6ae81fdc",
   "metadata": {},
   "outputs": [
    {
     "data": {
      "text/plain": [
       "43854"
      ]
     },
     "execution_count": 18,
     "metadata": {},
     "output_type": "execute_result"
    }
   ],
   "source": [
    "df2.count()"
   ]
  },
  {
   "cell_type": "code",
   "execution_count": 19,
   "id": "a2daa37d",
   "metadata": {},
   "outputs": [
    {
     "name": "stdout",
     "output_type": "stream",
     "text": [
      "root\n",
      " |-- startTime: string (nullable = true)\n",
      " |-- endTime: string (nullable = true)\n",
      " |-- calluuid: string (nullable = true)\n",
      "\n"
     ]
    }
   ],
   "source": [
    "df2.printSchema()"
   ]
  },
  {
   "cell_type": "code",
   "execution_count": 20,
   "id": "b7161334",
   "metadata": {},
   "outputs": [
    {
     "name": "stdout",
     "output_type": "stream",
     "text": [
      "-RECORD 0-------------------------\n",
      " startTime | 2020-06-13 00:58:52  \n",
      " endTime   | 2020-06-13 00:58:53  \n",
      " calluuid  | f2b05a36-ace2-11e... \n",
      "only showing top 1 row\n",
      "\n"
     ]
    }
   ],
   "source": [
    "df2.show(1, vertical=True)"
   ]
  },
  {
   "cell_type": "code",
   "execution_count": 21,
   "id": "2d855fd0",
   "metadata": {},
   "outputs": [],
   "source": [
    "# from pyspark.sql.functions import date_format\n",
    "\n",
    "# df2 = df.withColumn('startTime', date_format('_c4', 'YYYY-MM-DD  HH:mm:ss'))\n",
    "# df2[\"startTime\"].show()"
   ]
  },
  {
   "cell_type": "markdown",
   "id": "847d492d",
   "metadata": {},
   "source": [
    "### Number of daily calls"
   ]
  },
  {
   "cell_type": "code",
   "execution_count": 22,
   "id": "77da9d21",
   "metadata": {},
   "outputs": [
    {
     "name": "stdout",
     "output_type": "stream",
     "text": [
      "+-------------------+---+\n",
      "|startTime          |day|\n",
      "+-------------------+---+\n",
      "|2020-06-13 00:58:52|13 |\n",
      "|2020-06-13 00:59:51|13 |\n",
      "|2020-06-13 01:00:13|13 |\n",
      "|2020-06-13 01:00:36|13 |\n",
      "|2020-06-13 01:00:43|13 |\n",
      "+-------------------+---+\n",
      "only showing top 5 rows\n",
      "\n"
     ]
    }
   ],
   "source": [
    "from pyspark.sql import functions as F\n",
    "\n",
    "# find the day of the month\n",
    "host_day_df = df2.select(df2['startTime'], F.dayofmonth('startTime').alias('day'))\n",
    "host_day_df.show(5, truncate=False)"
   ]
  },
  {
   "cell_type": "markdown",
   "id": "7e1f0dcd",
   "metadata": {},
   "source": [
    "**host_day_distinct_df** Count of calls per day"
   ]
  },
  {
   "cell_type": "code",
   "execution_count": 23,
   "id": "e06766e0",
   "metadata": {},
   "outputs": [
    {
     "data": {
      "text/html": [
       "<div>\n",
       "<style scoped>\n",
       "    .dataframe tbody tr th:only-of-type {\n",
       "        vertical-align: middle;\n",
       "    }\n",
       "\n",
       "    .dataframe tbody tr th {\n",
       "        vertical-align: top;\n",
       "    }\n",
       "\n",
       "    .dataframe thead th {\n",
       "        text-align: right;\n",
       "    }\n",
       "</style>\n",
       "<table border=\"1\" class=\"dataframe\">\n",
       "  <thead>\n",
       "    <tr style=\"text-align: right;\">\n",
       "      <th></th>\n",
       "      <th>day</th>\n",
       "      <th>count</th>\n",
       "    </tr>\n",
       "  </thead>\n",
       "  <tbody>\n",
       "    <tr>\n",
       "      <th>0</th>\n",
       "      <td>NaN</td>\n",
       "      <td>21888</td>\n",
       "    </tr>\n",
       "    <tr>\n",
       "      <th>1</th>\n",
       "      <td>2.0</td>\n",
       "      <td>35</td>\n",
       "    </tr>\n",
       "    <tr>\n",
       "      <th>2</th>\n",
       "      <td>13.0</td>\n",
       "      <td>18104</td>\n",
       "    </tr>\n",
       "    <tr>\n",
       "      <th>3</th>\n",
       "      <td>14.0</td>\n",
       "      <td>3282</td>\n",
       "    </tr>\n",
       "    <tr>\n",
       "      <th>4</th>\n",
       "      <td>21.0</td>\n",
       "      <td>417</td>\n",
       "    </tr>\n",
       "    <tr>\n",
       "      <th>5</th>\n",
       "      <td>22.0</td>\n",
       "      <td>122</td>\n",
       "    </tr>\n",
       "    <tr>\n",
       "      <th>6</th>\n",
       "      <td>23.0</td>\n",
       "      <td>6</td>\n",
       "    </tr>\n",
       "  </tbody>\n",
       "</table>\n",
       "</div>"
      ],
      "text/plain": [
       "    day  count\n",
       "0   NaN  21888\n",
       "1   2.0     35\n",
       "2  13.0  18104\n",
       "3  14.0   3282\n",
       "4  21.0    417\n",
       "5  22.0    122\n",
       "6  23.0      6"
      ]
     },
     "execution_count": 23,
     "metadata": {},
     "output_type": "execute_result"
    }
   ],
   "source": [
    "def_mr = pd.get_option('max_rows')\n",
    "pd.set_option('max_rows', 10)\n",
    "\n",
    "daily_hosts_df = (host_day_df\n",
    "                     .groupBy('day')\n",
    "                     .count()\n",
    "                     .sort(\"day\"))\n",
    "\n",
    "daily_hosts_df = daily_hosts_df.toPandas()\n",
    "daily_hosts_df"
   ]
  },
  {
   "cell_type": "code",
   "execution_count": 24,
   "id": "37d7a31d",
   "metadata": {},
   "outputs": [
    {
     "data": {
      "image/png": "[encoded data removed]",
      "text/plain": [
       "<Figure size 540x360 with 1 Axes>"
      ]
     },
     "metadata": {
      "needs_background": "light"
     },
     "output_type": "display_data"
    }
   ],
   "source": [
    "c = sns.catplot(x='day', y='count',\n",
    "                data=daily_hosts_df,\n",
    "                kind='point', height=5,\n",
    "                aspect=1.5)"
   ]
  },
  {
   "cell_type": "markdown",
   "id": "7357505c",
   "metadata": {},
   "source": [
    "## Average number of daily Calls group by caller / callee"
   ]
  },
  {
   "cell_type": "code",
   "execution_count": 26,
   "id": "868bb06a",
   "metadata": {},
   "outputs": [],
   "source": [
    "# daily_hosts_df = (host_day_df\n",
    "#                      .groupBy('day')\n",
    "#                      .count()\n",
    "#                      .select(col(\"day\"),col(\"count\").alias(\"total_hosts\")))\n",
    "\n",
    "# total_daily_reqests_df = (df\n",
    "#                       .select(F.dayofmonth(\"time\").alias(\"day\"))\n",
    "#                       .groupBy(\"day\")\n",
    "#                       .count()\n",
    "#                       .select(col(\"day\"), col(\"count\").alias(\"total_reqs\")))\n",
    "\n",
    "# avg_daily_reqests_per_host_df = total_daily_reqests_df.join(daily_hosts_df, 'day')\n",
    "# avg_daily_reqests_per_host_df = (avg_daily_reqests_per_host_df\n",
    "#                                     .withColumn('avg_reqs', col('total_reqs') / col('total_hosts'))\n",
    "#                                     .sort(\"day\"))\n",
    "# avg_daily_reqests_per_host_df = avg_daily_reqests_per_host_df.toPandas()\n",
    "# avg_daily_reqests_per_host_df"
   ]
  },
  {
   "cell_type": "code",
   "execution_count": null,
   "id": "7fa736ad",
   "metadata": {},
   "outputs": [],
   "source": [
    "# c = sns.catplot(x='day', y='avg_reqs',\n",
    "#                 data=avg_daily_reqests_per_host_df,\n",
    "#                 kind='point', height=5, aspect=1.5)"
   ]
  },
  {
   "cell_type": "markdown",
   "id": "a5286a7b",
   "metadata": {},
   "source": [
    "## Hourly normal clearings"
   ]
  },
  {
   "cell_type": "code",
   "execution_count": 30,
   "id": "6d152cac",
   "metadata": {},
   "outputs": [
    {
     "data": {
      "image/png": "[encoded data removed]",
      "text/plain": [
       "<Figure size 540x360 with 1 Axes>"
      ]
     },
     "metadata": {
      "needs_background": "light"
     },
     "output_type": "display_data"
    }
   ],
   "source": [
    "hourly_avg_normal_clearing_df = (host_day_df\n",
    "                                   .groupBy(F.hour('startTime').alias('hour'))\n",
    "                                   .count()\n",
    "                                   .sort('hour'))\n",
    "hourly_avg_normal_clearing_pd_df = hourly_avg_normal_clearing_df.toPandas()\n",
    "\n",
    "c = sns.catplot(x='hour', y='count',\n",
    "                data=hourly_avg_normal_clearing_pd_df,\n",
    "                kind='bar', height=5, aspect=1.5)"
   ]
  },
  {
   "cell_type": "markdown",
   "id": "82d5fc28",
   "metadata": {},
   "source": [
    "# 4. Call duration per hour "
   ]
  },
  {
   "cell_type": "code",
   "execution_count": 31,
   "id": "e1523e9d",
   "metadata": {},
   "outputs": [
    {
     "name": "stdout",
     "output_type": "stream",
     "text": [
      "Total Calls with non zero Duration is 42416\n"
     ]
    }
   ],
   "source": [
    "callduration_df = df.filter(df[\"_c7\"] > 0).cache()\n",
    "print(('Total Calls with non zero Duration is {}').format(callduration_df.count()))"
   ]
  },
  {
   "cell_type": "code",
   "execution_count": 32,
   "id": "7faa10fc",
   "metadata": {},
   "outputs": [
    {
     "name": "stderr",
     "output_type": "stream",
     "text": [
      "C:\\Users\\abisht\\Anaconda3\\lib\\site-packages\\pandas\\plotting\\_matplotlib\\core.py:633: UserWarning: The handle <matplotlib.lines.Line2D object at 0x00000257ACFDBB50> has a label of '_c7' which cannot be automatically added to the legend.\n",
      "  ax.legend(handles, labels, loc=\"best\", title=title)\n"
     ]
    },
    {
     "data": {
      "text/plain": [
       "<AxesSubplot:>"
      ]
     },
     "execution_count": 32,
     "metadata": {},
     "output_type": "execute_result"
    },
    {
     "data": {
      "image/png": "[encoded data removed]",
      "text/plain": [
       "<Figure size 432x288 with 1 Axes>"
      ]
     },
     "metadata": {
      "needs_background": "light"
     },
     "output_type": "display_data"
    }
   ],
   "source": [
    "callduration_df.toPandas().plot()"
   ]
  },
  {
   "cell_type": "code",
   "execution_count": 46,
   "id": "8cb70d64",
   "metadata": {},
   "outputs": [
    {
     "data": {
      "image/png": "[encoded data removed]",
      "text/plain": [
       "<Figure size 540x360 with 1 Axes>"
      ]
     },
     "metadata": {
      "needs_background": "light"
     },
     "output_type": "display_data"
    }
   ],
   "source": [
    "year_callduration_df = (callduration_df\n",
    "                                   .groupBy(F.year('_c6').alias('year'))\n",
    "                                   .count()\n",
    "                                   .sort('year'))\n",
    "year_callduration_pd_df = year_callduration_df.toPandas()\n",
    "\n",
    "c = sns.catplot(x='year', y='count',\n",
    "                data=year_callduration_pd_df,\n",
    "                kind='bar', height=5, aspect=1.5)"
   ]
  },
  {
   "cell_type": "code",
   "execution_count": null,
   "id": "5fb3d2c0",
   "metadata": {},
   "outputs": [],
   "source": [
    "host_sum_pd_df = host_sum_df.toPandas()\n",
    "host_sum_pd_df.iloc[8]['_c2']"
   ]
  },
  {
   "cell_type": "markdown",
   "id": "5881d970",
   "metadata": {},
   "source": [
    "# Carbon Footprint"
   ]
  },
  {
   "cell_type": "code",
   "execution_count": null,
   "id": "5f9c64c6",
   "metadata": {},
   "outputs": [],
   "source": [
    "import carbonfootprint as carbonfp\n",
    "# from carbonfp.power_utilities.carbon import Carbon\n",
    "# from power_utilities.fuelmix import Fuelmix\n",
    "# # from power_utilities.Fuelmix import calculate_fuelmixbypercent\n",
    "# # from power_utilities import carbon_by_fuelmix\n",
    "# from power_utilities import fuelmix"
   ]
  },
  {
   "cell_type": "code",
   "execution_count": null,
   "id": "f44ec017",
   "metadata": {},
   "outputs": [],
   "source": [
    "carbonfp"
   ]
  },
  {
   "cell_type": "code",
   "execution_count": null,
   "id": "64afbc80",
   "metadata": {},
   "outputs": [],
   "source": [
    "# for importer, modname, ispkg in carbonfp(path=None, onerror=lambda x: None):\n",
    "#     print(modname)\n",
    "\n",
    "for importer, modname, ispkg in carbonfp.iter_modules(package.__path__):\n",
    "    print(\"Found submodule %s (is a package: %s)\" % (modname, ispkg))"
   ]
  },
  {
   "cell_type": "code",
   "execution_count": null,
   "id": "9dfcf085",
   "metadata": {},
   "outputs": [],
   "source": [
    "furlpercent_obj = carbonfp.power_utilities.Fuelmix(\"north_west\")"
   ]
  },
  {
   "cell_type": "code",
   "execution_count": null,
   "id": "b05ad4df",
   "metadata": {},
   "outputs": [],
   "source": [
    "\n",
    "dfindus_hourly_fuelmix = furlpercent_obj.calculate_fuelmixbypercent(dfindus_hourly)\n",
    "carbonemissio_pbj = Carbon()\n",
    "dfindus_hourly_fuelmix_carbon = carbonemissio_pbj.calculate_carbonemission(dfindus_hourly_fuelmix)\n",
    "print(\"-------------dfindus_hourly_fuelmix_carbon------------------\")\n",
    "print(dfindus_hourly_fuelmix_carbon.head())\n",
    "print(dfindus_hourly_fuelmix_carbon.columns)\n"
   ]
  },
  {
   "cell_type": "markdown",
   "id": "58d55978",
   "metadata": {},
   "source": [
    "**Refs**\n",
    "- https://opensource.com/article/19/5/visualize-log-data-apache-spark"
   ]
  }
 ],
 "metadata": {
  "kernelspec": {
   "display_name": "Python 3 (ipykernel)",
   "language": "python",
   "name": "python3"
  },
  "language_info": {
   "codemirror_mode": {
    "name": "ipython",
    "version": 3
   },
   "file_extension": ".py",
   "mimetype": "text/x-python",
   "name": "python",
   "nbconvert_exporter": "python",
   "pygments_lexer": "ipython3",
   "version": "3.9.7"
  }
 },
 "nbformat": 4,
 "nbformat_minor": 5
}
