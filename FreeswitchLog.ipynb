{
 "cells": [
  {
   "cell_type": "markdown",
   "id": "d820d0ae",
   "metadata": {},
   "source": [
    "# Freeswitch Log Traffic Analysis\n",
    "\n",
    "## Altanai Bisht \n",
    "( abisht@seattleu.edu\n",
    "altanai.telecom.com)\n",
    "\n",
    "License GPL 3"
   ]
  },
  {
   "cell_type": "code",
   "execution_count": 1,
   "id": "87469d1a-9f6c-431a-8bac-309998ed5821",
   "metadata": {},
   "outputs": [
    {
     "name": "stdout",
     "output_type": "stream",
     "text": [
      "C:\\Users\\abisht\\.jdks\\corretto-11.0.15\n"
     ]
    }
   ],
   "source": [
    "import os \n",
    "os.environ['JAVA_HOME']=\"C:\\\\Users\\\\abisht\\\\.jdks\\\\corretto-11.0.15\"\n",
    "print(os.environ['JAVA_HOME'])"
   ]
  },
  {
   "cell_type": "code",
   "execution_count": 2,
   "id": "46c72803",
   "metadata": {},
   "outputs": [
    {
     "data": {
      "text/plain": [
       "'C:\\\\Users\\\\abisht\\\\Downloads\\\\spark-3.2.1-bin-hadoop3.2\\\\spark-3.2.1-bin-hadoop3.2'"
      ]
     },
     "execution_count": 2,
     "metadata": {},
     "output_type": "execute_result"
    }
   ],
   "source": [
    "import findspark\n",
    "findspark.init()\n",
    "findspark.find()"
   ]
  },
  {
   "cell_type": "code",
   "execution_count": 3,
   "id": "1f8ebf45-3141-48da-9068-b901a2fdc378",
   "metadata": {},
   "outputs": [],
   "source": [
    "from datetime import datetime, date\n",
    "import re\n",
    "import pandas as pd\n",
    "import numpy as np\n",
    "import matplotlib.pyplot as plt\n",
    "import seaborn as sns\n",
    "import numpy as np\n",
    "%matplotlib inline"
   ]
  },
  {
   "cell_type": "code",
   "execution_count": 4,
   "id": "3cefea70",
   "metadata": {},
   "outputs": [],
   "source": [
    "import pyspark \n",
    "from pyspark.sql import SparkSession\n",
    "from pyspark.mllib.stat import Statistics \n",
    "from pyspark.sql import Row\n",
    "spark = SparkSession.builder.getOrCreate()"
   ]
  },
  {
   "cell_type": "markdown",
   "id": "010fde1f",
   "metadata": {},
   "source": [
    "# Freeswitch VoIP Logs\n"
   ]
  },
  {
   "cell_type": "code",
   "execution_count": 5,
   "id": "693c0955",
   "metadata": {},
   "outputs": [],
   "source": [
    "# logfile = \"/fslogs/*.log\"\n",
    "# fslogs = sc.textFile(\"hdfs://localhost:9000/\"+logfile)\n",
    "filepath= \"C:\\\\Users\\\\abisht\\\\VoIPCallLogs_BigDataSet\\\\freeswitch\\\\*.log\"\n",
    "\n",
    "from pyspark import SparkFiles\n",
    "base_df = spark.read.text(SparkFiles.get(filepath))"
   ]
  },
  {
   "cell_type": "markdown",
   "id": "a2f17cdb-0805-4980-b74f-943093e80ebf",
   "metadata": {},
   "source": [
    "Example Freeswitch cdr-csv log line:\n",
    "\"8001\",\"8001\",\"0046423112856\",\"public\",\"2020-06-13 00:58:52\",\"2020-06-13 00:58:52\",\"2020-06-13 00:58:53\",\"1\",\"1\",\"USER_NOT_REGISTERED\",\"f2b05a36-ace2-11ea-aa3b-153da8caf925\",\"\",\"\",\"PCMU\",\"PCMU\"\n",
    "\n",
    "FS_LOG_PATTERN = '^(\\S+) (\\S+) (\\S+) \\[([\\w:/]+\\s[+\\-]\\d{4})\\] \"(\\S+) (\\S+) (\\S+)\" (\\d{3}) (\\d+)'"
   ]
  },
  {
   "cell_type": "code",
   "execution_count": 6,
   "id": "e761ed22-8b33-4cf7-8afb-c7bce92372a9",
   "metadata": {},
   "outputs": [
    {
     "data": {
      "text/plain": [
       "Row(value='2020-06-14 05:05:07.622623 [NOTICE] mod_logfile.c:192 New log started: /usr/local/freeswitch/log/freeswitch.log')"
      ]
     },
     "execution_count": 6,
     "metadata": {},
     "output_type": "execute_result"
    }
   ],
   "source": [
    "base_df.head()"
   ]
  },
  {
   "cell_type": "code",
   "execution_count": 7,
   "id": "a7f3cee1-52f9-426c-b3f0-db770f3478d1",
   "metadata": {},
   "outputs": [
    {
     "name": "stdout",
     "output_type": "stream",
     "text": [
      "+---------------------------------------------------------------------------------------------------------------------------------------------------------------+\n",
      "|value                                                                                                                                                          |\n",
      "+---------------------------------------------------------------------------------------------------------------------------------------------------------------+\n",
      "|2020-06-14 05:05:07.622623 [NOTICE] mod_logfile.c:192 New log started: /usr/local/freeswitch/log/freeswitch.log                                                |\n",
      "|2020-06-14 05:05:07.622623 [DEBUG] sofia_reg.c:1790 Send challenge for [9999@117.201.85.75]                                                                    |\n",
      "|2020-06-14 05:05:07.622623 [WARNING] sofia_reg.c:1794 SIP auth challenge (REGISTER) on sofia profile 'internal' for [9999@117.201.85.75] from ip 37.187.153.237|\n",
      "|send 618 bytes to udp/[37.187.153.237]:6275 at 03:08:15.775434:                                                                                                |\n",
      "|------------------------------------------------------------------------                                                                                       |\n",
      "|SIP/2.0 401 Unauthorized                                                                                                                                       |\n",
      "|Via: SIP/2.0/UDP 37.187.153.237:6275;branch=z9hG4bK-3405921800;rport=6275                                                                                      |\n",
      "|From: \"9999\" <sip:9999@117.201.85.75>;tag=2930930192                                                                                                           |\n",
      "|To: \"9999\" <sip:9999@117.201.85.75>;tag=2Z3F1yFBKrvDp                                                                                                          |\n",
      "|Call-ID: 1834515944                                                                                                                                            |\n",
      "+---------------------------------------------------------------------------------------------------------------------------------------------------------------+\n",
      "only showing top 10 rows\n",
      "\n"
     ]
    }
   ],
   "source": [
    "base_df.show(10, truncate=False)"
   ]
  },
  {
   "cell_type": "code",
   "execution_count": 8,
   "id": "e65fcea0-6c9c-4de2-a251-c032b6eef999",
   "metadata": {},
   "outputs": [
    {
     "name": "stdout",
     "output_type": "stream",
     "text": [
      "['value']\n",
      "(15039024, 1)\n",
      "<class 'pyspark.sql.dataframe.DataFrame'>\n"
     ]
    }
   ],
   "source": [
    "print(base_df.columns)\n",
    "print((base_df.count(), len(base_df.columns)))\n",
    "print(type(base_df))"
   ]
  },
  {
   "cell_type": "code",
   "execution_count": 9,
   "id": "8b88ae4f-2e7e-4215-900e-a9ba31757ea5",
   "metadata": {},
   "outputs": [],
   "source": [
    "# base_df_rdd = base_df.rdd\n",
    "# type(base_df_rdd)"
   ]
  },
  {
   "cell_type": "markdown",
   "id": "82177718-adb2-43a2-a88d-6b9392d70e30",
   "metadata": {},
   "source": [
    "## Data Wrangling"
   ]
  },
  {
   "cell_type": "code",
   "execution_count": 10,
   "id": "8c6f08b9-2ee1-4cd0-a1d0-eba454102703",
   "metadata": {},
   "outputs": [
    {
     "data": {
      "text/plain": [
       "['2020-06-14 05:05:07.622623 [NOTICE] mod_logfile.c:192 New log started: /usr/local/freeswitch/log/freeswitch.log',\n",
       " '2020-06-14 05:05:07.622623 [DEBUG] sofia_reg.c:1790 Send challenge for [9999@117.201.85.75]',\n",
       " \"2020-06-14 05:05:07.622623 [WARNING] sofia_reg.c:1794 SIP auth challenge (REGISTER) on sofia profile 'internal' for [9999@117.201.85.75] from ip 37.187.153.237\",\n",
       " 'send 618 bytes to udp/[37.187.153.237]:6275 at 03:08:15.775434:',\n",
       " '------------------------------------------------------------------------',\n",
       " 'SIP/2.0 401 Unauthorized',\n",
       " 'Via: SIP/2.0/UDP 37.187.153.237:6275;branch=z9hG4bK-3405921800;rport=6275',\n",
       " 'From: \"9999\" <sip:9999@117.201.85.75>;tag=2930930192',\n",
       " 'To: \"9999\" <sip:9999@117.201.85.75>;tag=2Z3F1yFBKrvDp',\n",
       " 'Call-ID: 1834515944',\n",
       " 'CSeq: 1 REGISTER',\n",
       " 'User-Agent: FreeSWITCH-mod_sofia/1.10.4-dev+git~20200518T172205Z~91f54340ed~64bit',\n",
       " 'Allow: INVITE, ACK, BYE, CANCEL, OPTIONS, MESSAGE, INFO, UPDATE, REGISTER, REFER, NOTIFY, PUBLISH, SUBSCRIBE',\n",
       " 'Supported: timer, path, replaces',\n",
       " 'WWW-Authenticate: Digest realm=\"117.201.85.75\", nonce=\"5af061f4-ae87-11ea-a68a-153da8caf925\", algorithm=MD5, qop=\"auth\"']"
      ]
     },
     "execution_count": 10,
     "metadata": {},
     "output_type": "execute_result"
    }
   ],
   "source": [
    "sample_logs = [item['value'] for item in base_df.take(15)]\n",
    "sample_logs"
   ]
  },
  {
   "cell_type": "markdown",
   "id": "d8bcf4e5-4efe-49a9-acaf-fbd59940cb01",
   "metadata": {},
   "source": [
    "## Reframe the dataframe with regex\n",
    "\n",
    "Extracting timestamps"
   ]
  },
  {
   "cell_type": "code",
   "execution_count": 11,
   "id": "f95aeb61-fcd6-4343-90b9-67d23327736e",
   "metadata": {},
   "outputs": [],
   "source": [
    "# 2020-06-14 05:05:07.622623\n",
    "ts_pattern = r'(\\d{4}-\\d{2}-\\d{2} \\d{2}:\\d{2}:\\d{2})'"
   ]
  },
  {
   "cell_type": "code",
   "execution_count": 12,
   "id": "ec32642e-7e66-4822-aefe-70f2a489ad3f",
   "metadata": {},
   "outputs": [
    {
     "name": "stdout",
     "output_type": "stream",
     "text": [
      "+-------------------+\n",
      "|          timestamp|\n",
      "+-------------------+\n",
      "|2020-06-14 05:05:07|\n",
      "|2020-06-14 05:05:07|\n",
      "|2020-06-14 05:05:07|\n",
      "|                   |\n",
      "|                   |\n",
      "|                   |\n",
      "|                   |\n",
      "|                   |\n",
      "|                   |\n",
      "|                   |\n",
      "+-------------------+\n",
      "only showing top 10 rows\n",
      "\n",
      "(15039024, 1)\n"
     ]
    }
   ],
   "source": [
    "from pyspark.sql.functions import regexp_extract\n",
    "\n",
    "logs_df = base_df.select(regexp_extract('value', ts_pattern, 1).alias('timestamp'))\n",
    "logs_df.show(10, truncate=True)\n",
    "print((logs_df.count(), len(logs_df.columns)))"
   ]
  },
  {
   "cell_type": "markdown",
   "id": "171dd69c-8d91-4f84-8bad-42869e248c3e",
   "metadata": {},
   "source": [
    "## Finding missing values, Drop or values outside of date range "
   ]
  },
  {
   "cell_type": "code",
   "execution_count": 13,
   "id": "45982cf9-d477-4874-b121-5e9cb19bd4c2",
   "metadata": {},
   "outputs": [
    {
     "data": {
      "text/plain": [
       "15039024"
      ]
     },
     "execution_count": 13,
     "metadata": {},
     "output_type": "execute_result"
    }
   ],
   "source": [
    "dates = (\"2015-01-01\",  \"2022-12-31\")\n",
    "# bad_rows_df = logs_df['timestamp'].between(*dates).show(truncate=False)\n",
    "useful_logs_df= logs_df.select(logs_df['timestamp'], logs_df['timestamp'].between(*dates))\n",
    "useful_logs_df.count()"
   ]
  },
  {
   "cell_type": "code",
   "execution_count": 14,
   "id": "35a732a5-5f6a-4773-954a-adf21d74ff81",
   "metadata": {},
   "outputs": [
    {
     "name": "stdout",
     "output_type": "stream",
     "text": [
      "+-------------------+---------------------------------------------------------+\n",
      "|          timestamp|((timestamp >= 2015-01-01) AND (timestamp <= 2022-12-31))|\n",
      "+-------------------+---------------------------------------------------------+\n",
      "|2020-06-14 05:05:07|                                                     true|\n",
      "|2020-06-14 05:05:07|                                                     true|\n",
      "|2020-06-14 05:05:07|                                                     true|\n",
      "|2020-06-14 05:05:07|                                                     true|\n",
      "|2020-06-14 05:05:07|                                                     true|\n",
      "|2020-06-14 05:05:07|                                                     true|\n",
      "|2020-06-14 05:05:07|                                                     true|\n",
      "|2020-06-14 05:05:07|                                                     true|\n",
      "|2020-06-14 05:05:07|                                                     true|\n",
      "|2020-06-14 05:05:07|                                                     true|\n",
      "+-------------------+---------------------------------------------------------+\n",
      "only showing top 10 rows\n",
      "\n"
     ]
    }
   ],
   "source": [
    "logs_df = useful_logs_df[useful_logs_df[1]=='true']\n",
    "logs_df.show(10, truncate=True)"
   ]
  },
  {
   "cell_type": "markdown",
   "id": "893327de-00c7-46f7-97d0-861350cc763b",
   "metadata": {},
   "source": [
    "## RDD row to spark dataframe"
   ]
  },
  {
   "cell_type": "code",
   "execution_count": 15,
   "id": "374fee5c-c870-46b9-a4a4-18f013c465be",
   "metadata": {},
   "outputs": [
    {
     "name": "stdout",
     "output_type": "stream",
     "text": [
      "root\n",
      " |-- startTime: string (nullable = true)\n",
      " |-- endTime: string (nullable = true)\n",
      " |-- calluuid: string (nullable = true)\n",
      "\n"
     ]
    }
   ],
   "source": [
    "from pyspark.sql import Row\n",
    "\n",
    "new_rdd = logs_df.rdd\n",
    "parsed_rdd = new_rdd.map(lambda r : Row(\\\n",
    "                                        startTime =r[0],\\\n",
    "                                        endTime=r[0],\\\n",
    "                                        calluuid=r[0]))\n",
    "df2 = spark.createDataFrame(parsed_rdd)\n",
    "df2.printSchema()"
   ]
  },
  {
   "cell_type": "code",
   "execution_count": 16,
   "id": "b7161334",
   "metadata": {},
   "outputs": [
    {
     "name": "stdout",
     "output_type": "stream",
     "text": [
      "-RECORD 0------------------------\n",
      " startTime | 2020-06-14 05:05:07 \n",
      " endTime   | 2020-06-14 05:05:07 \n",
      " calluuid  | 2020-06-14 05:05:07 \n",
      "only showing top 1 row\n",
      "\n"
     ]
    }
   ],
   "source": [
    "df2.show(1, vertical=True)"
   ]
  },
  {
   "cell_type": "markdown",
   "id": "847d492d",
   "metadata": {},
   "source": [
    "### Daily - Request reponse network traffic "
   ]
  },
  {
   "cell_type": "code",
   "execution_count": 17,
   "id": "77da9d21",
   "metadata": {},
   "outputs": [
    {
     "name": "stdout",
     "output_type": "stream",
     "text": [
      "+-------------------+---+\n",
      "|startTime          |day|\n",
      "+-------------------+---+\n",
      "|2020-06-14 05:05:07|14 |\n",
      "|2020-06-14 05:05:07|14 |\n",
      "|2020-06-14 05:05:07|14 |\n",
      "|2020-06-14 05:05:07|14 |\n",
      "|2020-06-14 05:05:07|14 |\n",
      "+-------------------+---+\n",
      "only showing top 5 rows\n",
      "\n"
     ]
    }
   ],
   "source": [
    "from pyspark.sql import functions as F\n",
    "\n",
    "# find the day of the month\n",
    "daily_traffic_df = df2.select(df2['startTime'], F.dayofmonth('startTime').alias('day'))\n",
    "daily_traffic_df.show(5, truncate=False)"
   ]
  },
  {
   "cell_type": "code",
   "execution_count": 130,
   "id": "e06766e0",
   "metadata": {},
   "outputs": [
    {
     "data": {
      "text/html": [
       "<div>\n",
       "<style scoped>\n",
       "    .dataframe tbody tr th:only-of-type {\n",
       "        vertical-align: middle;\n",
       "    }\n",
       "\n",
       "    .dataframe tbody tr th {\n",
       "        vertical-align: top;\n",
       "    }\n",
       "\n",
       "    .dataframe thead th {\n",
       "        text-align: right;\n",
       "    }\n",
       "</style>\n",
       "<table border=\"1\" class=\"dataframe\">\n",
       "  <thead>\n",
       "    <tr style=\"text-align: right;\">\n",
       "      <th></th>\n",
       "      <th>day</th>\n",
       "      <th>count</th>\n",
       "    </tr>\n",
       "  </thead>\n",
       "  <tbody>\n",
       "    <tr>\n",
       "      <th>0</th>\n",
       "      <td>2</td>\n",
       "      <td>17289</td>\n",
       "    </tr>\n",
       "    <tr>\n",
       "      <th>1</th>\n",
       "      <td>14</td>\n",
       "      <td>890041</td>\n",
       "    </tr>\n",
       "    <tr>\n",
       "      <th>2</th>\n",
       "      <td>18</td>\n",
       "      <td>31</td>\n",
       "    </tr>\n",
       "    <tr>\n",
       "      <th>3</th>\n",
       "      <td>19</td>\n",
       "      <td>3140</td>\n",
       "    </tr>\n",
       "    <tr>\n",
       "      <th>4</th>\n",
       "      <td>20</td>\n",
       "      <td>1594</td>\n",
       "    </tr>\n",
       "    <tr>\n",
       "      <th>...</th>\n",
       "      <td>...</td>\n",
       "      <td>...</td>\n",
       "    </tr>\n",
       "    <tr>\n",
       "      <th>6</th>\n",
       "      <td>22</td>\n",
       "      <td>11067</td>\n",
       "    </tr>\n",
       "    <tr>\n",
       "      <th>7</th>\n",
       "      <td>23</td>\n",
       "      <td>4168</td>\n",
       "    </tr>\n",
       "    <tr>\n",
       "      <th>8</th>\n",
       "      <td>26</td>\n",
       "      <td>1264</td>\n",
       "    </tr>\n",
       "    <tr>\n",
       "      <th>9</th>\n",
       "      <td>27</td>\n",
       "      <td>1268</td>\n",
       "    </tr>\n",
       "    <tr>\n",
       "      <th>10</th>\n",
       "      <td>28</td>\n",
       "      <td>928</td>\n",
       "    </tr>\n",
       "  </tbody>\n",
       "</table>\n",
       "<p>11 rows × 2 columns</p>\n",
       "</div>"
      ],
      "text/plain": [
       "    day   count\n",
       "0     2   17289\n",
       "1    14  890041\n",
       "2    18      31\n",
       "3    19    3140\n",
       "4    20    1594\n",
       "..  ...     ...\n",
       "6    22   11067\n",
       "7    23    4168\n",
       "8    26    1264\n",
       "9    27    1268\n",
       "10   28     928\n",
       "\n",
       "[11 rows x 2 columns]"
      ]
     },
     "execution_count": 130,
     "metadata": {},
     "output_type": "execute_result"
    }
   ],
   "source": [
    "# Count of calls per day\n",
    "def_mr = pd.get_option('max_rows')\n",
    "pd.set_option('max_rows', 10)\n",
    "\n",
    "daily_df = (daily_traffic_df\n",
    "                     .groupBy('day')\n",
    "                     .count()\n",
    "                     .sort(\"day\"))\n",
    "\n",
    "daily_df = daily_df.toPandas()\n",
    "daily_df"
   ]
  },
  {
   "cell_type": "code",
   "execution_count": 131,
   "id": "37d7a31d",
   "metadata": {},
   "outputs": [
    {
     "data": {
      "image/png": "[encoded data removed]",
      "text/plain": [
       "<Figure size 540x360 with 1 Axes>"
      ]
     },
     "metadata": {
      "needs_background": "light"
     },
     "output_type": "display_data"
    }
   ],
   "source": [
    "c = sns.catplot(x='day', y='count',\n",
    "                data=daily_df,\n",
    "                kind='point', height=5,\n",
    "                aspect=1.5)"
   ]
  },
  {
   "cell_type": "markdown",
   "id": "a5286a7b",
   "metadata": {
    "tags": []
   },
   "source": [
    "### Hourly - Request reponse network traffic "
   ]
  },
  {
   "cell_type": "code",
   "execution_count": 173,
   "id": "5a40f6ba-0d75-4bcb-9d3b-ba92ea2ff3c5",
   "metadata": {},
   "outputs": [
    {
     "data": {
      "text/html": [
       "<div>\n",
       "<style scoped>\n",
       "    .dataframe tbody tr th:only-of-type {\n",
       "        vertical-align: middle;\n",
       "    }\n",
       "\n",
       "    .dataframe tbody tr th {\n",
       "        vertical-align: top;\n",
       "    }\n",
       "\n",
       "    .dataframe thead th {\n",
       "        text-align: right;\n",
       "    }\n",
       "</style>\n",
       "<table border=\"1\" class=\"dataframe\">\n",
       "  <thead>\n",
       "    <tr style=\"text-align: right;\">\n",
       "      <th></th>\n",
       "      <th>window</th>\n",
       "      <th>count</th>\n",
       "    </tr>\n",
       "  </thead>\n",
       "  <tbody>\n",
       "    <tr>\n",
       "      <th>0</th>\n",
       "      <td>(2020-06-14 05:00:00, 2020-06-14 05:15:00)</td>\n",
       "      <td>144305</td>\n",
       "    </tr>\n",
       "    <tr>\n",
       "      <th>1</th>\n",
       "      <td>(2020-06-14 05:15:00, 2020-06-14 05:30:00)</td>\n",
       "      <td>195354</td>\n",
       "    </tr>\n",
       "    <tr>\n",
       "      <th>2</th>\n",
       "      <td>(2020-06-14 05:30:00, 2020-06-14 05:45:00)</td>\n",
       "      <td>37080</td>\n",
       "    </tr>\n",
       "    <tr>\n",
       "      <th>3</th>\n",
       "      <td>(2020-06-14 06:30:00, 2020-06-14 06:45:00)</td>\n",
       "      <td>33174</td>\n",
       "    </tr>\n",
       "    <tr>\n",
       "      <th>4</th>\n",
       "      <td>(2020-06-14 06:00:00, 2020-06-14 06:15:00)</td>\n",
       "      <td>41448</td>\n",
       "    </tr>\n",
       "    <tr>\n",
       "      <th>...</th>\n",
       "      <td>...</td>\n",
       "      <td>...</td>\n",
       "    </tr>\n",
       "    <tr>\n",
       "      <th>138</th>\n",
       "      <td>(2020-06-14 04:30:00, 2020-06-14 04:45:00)</td>\n",
       "      <td>4364</td>\n",
       "    </tr>\n",
       "    <tr>\n",
       "      <th>139</th>\n",
       "      <td>(2022-03-21 02:15:00, 2022-03-21 02:30:00)</td>\n",
       "      <td>107</td>\n",
       "    </tr>\n",
       "    <tr>\n",
       "      <th>140</th>\n",
       "      <td>(2022-03-22 08:30:00, 2022-03-22 08:45:00)</td>\n",
       "      <td>291</td>\n",
       "    </tr>\n",
       "    <tr>\n",
       "      <th>141</th>\n",
       "      <td>(2022-03-20 01:15:00, 2022-03-20 01:30:00)</td>\n",
       "      <td>940</td>\n",
       "    </tr>\n",
       "    <tr>\n",
       "      <th>142</th>\n",
       "      <td>(2022-03-21 07:15:00, 2022-03-21 07:30:00)</td>\n",
       "      <td>533</td>\n",
       "    </tr>\n",
       "  </tbody>\n",
       "</table>\n",
       "<p>143 rows × 2 columns</p>\n",
       "</div>"
      ],
      "text/plain": [
       "                                         window   count\n",
       "0    (2020-06-14 05:00:00, 2020-06-14 05:15:00)  144305\n",
       "1    (2020-06-14 05:15:00, 2020-06-14 05:30:00)  195354\n",
       "2    (2020-06-14 05:30:00, 2020-06-14 05:45:00)   37080\n",
       "3    (2020-06-14 06:30:00, 2020-06-14 06:45:00)   33174\n",
       "4    (2020-06-14 06:00:00, 2020-06-14 06:15:00)   41448\n",
       "..                                          ...     ...\n",
       "138  (2020-06-14 04:30:00, 2020-06-14 04:45:00)    4364\n",
       "139  (2022-03-21 02:15:00, 2022-03-21 02:30:00)     107\n",
       "140  (2022-03-22 08:30:00, 2022-03-22 08:45:00)     291\n",
       "141  (2022-03-20 01:15:00, 2022-03-20 01:30:00)     940\n",
       "142  (2022-03-21 07:15:00, 2022-03-21 07:30:00)     533\n",
       "\n",
       "[143 rows x 2 columns]"
      ]
     },
     "execution_count": 173,
     "metadata": {},
     "output_type": "execute_result"
    }
   ],
   "source": [
    "# Count of calls per hour\n",
    "\n",
    "from pyspark.sql.functions import col, count, date_format, date_sub, date_trunc, month, next_day, to_timestamp, weekofyear, window, year\n",
    "\n",
    "def_mr = pd.get_option('max_rows')\n",
    "pd.set_option('max_rows', 10)\n",
    "\n",
    "hourly_df = (daily_traffic_df\n",
    "                     .select(F.date_format('startTime','yyyy-MM-dd hh:mm:ss').alias('timestamp'))\n",
    "                     .groupBy(window('timestamp', \"15 minutes\"))\n",
    "                     .count())\n",
    "# hourly_df= hourly_df.groupBy('startTime', window('startTime', \"5 minutes\")).sum(\"metric\")\n",
    "\n",
    "hourly_df = hourly_df.toPandas()\n",
    "hourly_df"
   ]
  },
  {
   "cell_type": "code",
   "execution_count": 185,
   "id": "ac752cce-41a4-4b8d-8c25-cee9ae67e0bb",
   "metadata": {},
   "outputs": [
    {
     "data": {
      "text/html": [
       "<div>\n",
       "<style scoped>\n",
       "    .dataframe tbody tr th:only-of-type {\n",
       "        vertical-align: middle;\n",
       "    }\n",
       "\n",
       "    .dataframe tbody tr th {\n",
       "        vertical-align: top;\n",
       "    }\n",
       "\n",
       "    .dataframe thead th {\n",
       "        text-align: right;\n",
       "    }\n",
       "</style>\n",
       "<table border=\"1\" class=\"dataframe\">\n",
       "  <thead>\n",
       "    <tr style=\"text-align: right;\">\n",
       "      <th></th>\n",
       "      <th>count</th>\n",
       "      <th>start</th>\n",
       "    </tr>\n",
       "  </thead>\n",
       "  <tbody>\n",
       "    <tr>\n",
       "      <th>0</th>\n",
       "      <td>144305</td>\n",
       "      <td>2020-06-14 05:00:00</td>\n",
       "    </tr>\n",
       "    <tr>\n",
       "      <th>1</th>\n",
       "      <td>195354</td>\n",
       "      <td>2020-06-14 05:15:00</td>\n",
       "    </tr>\n",
       "    <tr>\n",
       "      <th>2</th>\n",
       "      <td>37080</td>\n",
       "      <td>2020-06-14 05:30:00</td>\n",
       "    </tr>\n",
       "    <tr>\n",
       "      <th>3</th>\n",
       "      <td>33174</td>\n",
       "      <td>2020-06-14 06:30:00</td>\n",
       "    </tr>\n",
       "    <tr>\n",
       "      <th>4</th>\n",
       "      <td>41448</td>\n",
       "      <td>2020-06-14 06:00:00</td>\n",
       "    </tr>\n",
       "    <tr>\n",
       "      <th>...</th>\n",
       "      <td>...</td>\n",
       "      <td>...</td>\n",
       "    </tr>\n",
       "    <tr>\n",
       "      <th>138</th>\n",
       "      <td>4364</td>\n",
       "      <td>2020-06-14 04:30:00</td>\n",
       "    </tr>\n",
       "    <tr>\n",
       "      <th>139</th>\n",
       "      <td>107</td>\n",
       "      <td>2022-03-21 02:15:00</td>\n",
       "    </tr>\n",
       "    <tr>\n",
       "      <th>140</th>\n",
       "      <td>291</td>\n",
       "      <td>2022-03-22 08:30:00</td>\n",
       "    </tr>\n",
       "    <tr>\n",
       "      <th>141</th>\n",
       "      <td>940</td>\n",
       "      <td>2022-03-20 01:15:00</td>\n",
       "    </tr>\n",
       "    <tr>\n",
       "      <th>142</th>\n",
       "      <td>533</td>\n",
       "      <td>2022-03-21 07:15:00</td>\n",
       "    </tr>\n",
       "  </tbody>\n",
       "</table>\n",
       "<p>143 rows × 2 columns</p>\n",
       "</div>"
      ],
      "text/plain": [
       "      count               start\n",
       "0    144305 2020-06-14 05:00:00\n",
       "1    195354 2020-06-14 05:15:00\n",
       "2     37080 2020-06-14 05:30:00\n",
       "3     33174 2020-06-14 06:30:00\n",
       "4     41448 2020-06-14 06:00:00\n",
       "..      ...                 ...\n",
       "138    4364 2020-06-14 04:30:00\n",
       "139     107 2022-03-21 02:15:00\n",
       "140     291 2022-03-22 08:30:00\n",
       "141     940 2022-03-20 01:15:00\n",
       "142     533 2022-03-21 07:15:00\n",
       "\n",
       "[143 rows x 2 columns]"
      ]
     },
     "execution_count": 185,
     "metadata": {},
     "output_type": "execute_result"
    }
   ],
   "source": [
    "window_start = hourly_df['window'].map(lambda r : Row(start =r[0]))\n",
    "window_start= spark.createDataFrame(window_start).toPandas()\n",
    "hourly_df[\"start\"]=window_start\n",
    "hourly_df.drop(columns=[\"window\"], inplace=True)\n",
    "hourly_df"
   ]
  },
  {
   "cell_type": "code",
   "execution_count": 202,
   "id": "6d152cac",
   "metadata": {},
   "outputs": [
    {
     "data": {
      "text/plain": [
       "<seaborn.axisgrid.FacetGrid at 0x276e51ff4c0>"
      ]
     },
     "execution_count": 202,
     "metadata": {},
     "output_type": "execute_result"
    },
    {
     "data": {
      "text/plain": [
       "<Figure size 432x360 with 0 Axes>"
      ]
     },
     "metadata": {},
     "output_type": "display_data"
    },
    {
     "data": {
      "image/png": "[encoded data removed]",
      "text/plain": [
       "<Figure size 1296x216 with 1 Axes>"
      ]
     },
     "metadata": {
      "needs_background": "light"
     },
     "output_type": "display_data"
    }
   ],
   "source": [
    "plt.figure(figsize=(6,5))\n",
    "chart = sns.catplot(x='start', y='count',\n",
    "                data=hourly_df,\n",
    "                kind='bar', height=3, aspect=6)\n",
    "chart.set_xticklabels(rotation=65, horizontalalignment='right')"
   ]
  },
  {
   "cell_type": "markdown",
   "id": "58d55978",
   "metadata": {},
   "source": [
    "**Refs**\n",
    "- https://opensource.com/article/19/5/visualize-log-data-apache-spark"
   ]
  }
 ],
 "metadata": {
  "kernelspec": {
   "display_name": "Python 3 (ipykernel)",
   "language": "python",
   "name": "python3"
  },
  "language_info": {
   "codemirror_mode": {
    "name": "ipython",
    "version": 3
   },
   "file_extension": ".py",
   "mimetype": "text/x-python",
   "name": "python",
   "nbconvert_exporter": "python",
   "pygments_lexer": "ipython3",
   "version": "3.9.7"
  }
 },
 "nbformat": 4,
 "nbformat_minor": 5
}
